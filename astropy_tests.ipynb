{
 "cells": [
  {
   "cell_type": "markdown",
   "metadata": {},
   "source": [
    "## Units and Quantities in Astropy"
   ]
  },
  {
   "cell_type": "markdown",
   "metadata": {},
   "source": [
    "Use of equivalence -"
   ]
  },
  {
   "cell_type": "code",
   "execution_count": 1,
   "metadata": {},
   "outputs": [
    {
     "data": {
      "text/latex": [
       "$3.5262939 \\; \\mathrm{K}$"
      ],
      "text/plain": [
       "<Quantity 3.52629392 K>"
      ]
     },
     "execution_count": 1,
     "metadata": {},
     "output_type": "execute_result"
    }
   ],
   "source": [
    "import numpy as np\n",
    "from astropy import units as u\n",
    "beam_sigma = 50*u.arcsec\n",
    "beam_area = 2*np.pi*(beam_sigma)**2\n",
    "freq = 5*u.GHz\n",
    "equiv = u.brightness_temperature(freq)\n",
    "\n",
    "(1*u.Jy/beam_area).to(u.K, equivalencies=equiv)"
   ]
  },
  {
   "cell_type": "markdown",
   "metadata": {},
   "source": [
    "SpectralCoord examples to avoid using equivalences -"
   ]
  },
  {
   "cell_type": "code",
   "execution_count": 2,
   "metadata": {},
   "outputs": [
    {
     "data": {
      "text/latex": [
       "$[1.8952033,~1.8946241,~1.8940452] \\; \\mathrm{eV}$"
      ],
      "text/plain": [
       "<SpectralCoord \n",
       "   (observer to target:\n",
       "      radial_velocity=115304.79153846155 km / s\n",
       "      redshift=0.5000000000000002)\n",
       "  [1.89520328, 1.89462406, 1.89404519] eV>"
      ]
     },
     "execution_count": 2,
     "metadata": {},
     "output_type": "execute_result"
    }
   ],
   "source": [
    "from astropy.coordinates import SpectralCoord\n",
    "sc = SpectralCoord([654.2, 654.4, 654.6] * u.nm, redshift = 0.5)\n",
    "sc.to(u.eV)"
   ]
  },
  {
   "cell_type": "code",
   "execution_count": 3,
   "metadata": {},
   "outputs": [
    {
     "data": {
      "text/latex": [
       "$[-1118.5434,~-1027.2337,~-935.92407] \\; \\mathrm{\\frac{km}{s}}$"
      ],
      "text/plain": [
       "<SpectralCoord \n",
       "   (observer to target:\n",
       "      radial_velocity=115304.79153846155 km / s\n",
       "      redshift=0.5000000000000002\n",
       "    doppler_rest=656.65 nm\n",
       "    doppler_convention=optical)\n",
       "  [-1118.5433977 , -1027.23373258,  -935.92406746] km / s>"
      ]
     },
     "execution_count": 3,
     "metadata": {},
     "output_type": "execute_result"
    }
   ],
   "source": [
    "sc.to(u.km / u.s, doppler_convention='optical', doppler_rest=656.65 * u.nm)"
   ]
  },
  {
   "cell_type": "code",
   "execution_count": 4,
   "metadata": {},
   "outputs": [
    {
     "data": {
      "text/latex": [
       "$[436.13333,~436.26667,~436.4] \\; \\mathrm{nm}$"
      ],
      "text/plain": [
       "<SpectralCoord \n",
       "   (observer to target:\n",
       "      radial_velocity=0.0 km / s\n",
       "      redshift=0.0)\n",
       "  [436.13333333, 436.26666667, 436.4       ] nm>"
      ]
     },
     "execution_count": 4,
     "metadata": {},
     "output_type": "execute_result"
    }
   ],
   "source": [
    "sc.to_rest()"
   ]
  },
  {
   "cell_type": "code",
   "execution_count": 5,
   "metadata": {},
   "outputs": [
    {
     "data": {
      "text/latex": [
       "$[925.41875,~925.70166,~925.98458] \\; \\mathrm{nm}$"
      ],
      "text/plain": [
       "<SpectralCoord \n",
       "   (observer to target:\n",
       "      radial_velocity=215304.79153846155 km / s\n",
       "      redshift=1.469152751250609)\n",
       "  [925.41874739, 925.70166355, 925.9845797 ] nm>"
      ]
     },
     "execution_count": 5,
     "metadata": {},
     "output_type": "execute_result"
    }
   ],
   "source": [
    "sc.with_radial_velocity_shift(100000 * u.km / u.s)"
   ]
  },
  {
   "cell_type": "markdown",
   "metadata": {},
   "source": [
    "If the source is 567 arcsec (the biggest one in 10GB dataset), how many pixels will it take?"
   ]
  },
  {
   "cell_type": "code",
   "execution_count": 114,
   "metadata": {},
   "outputs": [
    {
     "data": {
      "text/latex": [
       "$202.5 \\; \\mathrm{pix}$"
      ],
      "text/plain": [
       "<Quantity 202.5 pix>"
      ]
     },
     "execution_count": 114,
     "metadata": {},
     "output_type": "execute_result"
    }
   ],
   "source": [
    "(567*u.arcsec).to(u.pixel, u.pixel_scale(2.8*u.arcsec/u.pixel))"
   ]
  },
  {
   "cell_type": "markdown",
   "metadata": {},
   "source": [
    "## SpectralCube"
   ]
  },
  {
   "cell_type": "markdown",
   "metadata": {},
   "source": [
    "Opening a datacube -"
   ]
  },
  {
   "cell_type": "code",
   "execution_count": 6,
   "metadata": {},
   "outputs": [
    {
     "name": "stdout",
     "output_type": "stream",
     "text": [
      "SpectralCube with shape=(7, 4, 3) and unit=Jy / beam:\n",
      " n_x:      3  type_x: RA---ARC  unit_x: deg    range:    52.231466 deg:   52.231544 deg\n",
      " n_y:      4  type_y: DEC--ARC  unit_y: deg    range:    31.243639 deg:   31.243739 deg\n",
      " n_s:      7  type_s: VRAD      unit_s: m / s  range:    14322.821 m / s:   14944.909 m / s\n"
     ]
    },
    {
     "name": "stderr",
     "output_type": "stream",
     "text": [
      "WARNING: FITS file has no STOKES axis, but it has a blank axis type at index 4 that is assumed to be stokes. [spectral_cube.cube_utils]\n",
      "WARNING: StokesWarning: Cube is a Stokes cube, returning spectral cube for I component [spectral_cube.io.core]\n"
     ]
    }
   ],
   "source": [
    "from astropy.utils import data\n",
    "from spectral_cube import SpectralCube\n",
    "fn = data.get_pkg_data_filename('tests/data/example_cube.fits', 'spectral_cube')\n",
    "cube = SpectralCube.read(fn)\n",
    "\n",
    "print(cube)"
   ]
  },
  {
   "cell_type": "code",
   "execution_count": 7,
   "metadata": {},
   "outputs": [
    {
     "data": {
      "text/plain": [
       "SpectralCube with shape=(7, 4, 3) and unit=Jy / beam:\n",
       " n_x:      3  type_x: RA---ARC  unit_x: deg    range:    52.231466 deg:   52.231544 deg\n",
       " n_y:      4  type_y: DEC--ARC  unit_y: deg    range:    31.243639 deg:   31.243739 deg\n",
       " n_s:      7  type_s: FREQ      unit_s: GHz    range:      225.885 GHz:     225.886 GHz"
      ]
     },
     "execution_count": 7,
     "metadata": {},
     "output_type": "execute_result"
    }
   ],
   "source": [
    "cube.with_spectral_unit(u.GHz)"
   ]
  },
  {
   "cell_type": "code",
   "execution_count": 8,
   "metadata": {},
   "outputs": [],
   "source": [
    "slab = cube.with_spectral_unit(u.GHz).spectral_slab(98 * u.GHz, 100 * u.GHz)"
   ]
  },
  {
   "cell_type": "code",
   "execution_count": 9,
   "metadata": {},
   "outputs": [
    {
     "data": {
      "text/plain": [
       "SpectralCube with shape=(1, 4, 3) and unit=Jy / beam:\n",
       " n_x:      3  type_x: RA---ARC  unit_x: deg    range:    52.231466 deg:   52.231544 deg\n",
       " n_y:      4  type_y: DEC--ARC  unit_y: deg    range:    31.243639 deg:   31.243739 deg\n",
       " n_s:      1  type_s: FREQ      unit_s: GHz    range:      225.885 GHz:     225.885 GHz"
      ]
     },
     "execution_count": 9,
     "metadata": {},
     "output_type": "execute_result"
    }
   ],
   "source": [
    "slab"
   ]
  },
  {
   "cell_type": "code",
   "execution_count": 10,
   "metadata": {},
   "outputs": [],
   "source": [
    "masked_slab = slab.with_mask(slab > 1 * u.Jy/u.beam)"
   ]
  },
  {
   "cell_type": "code",
   "execution_count": 11,
   "metadata": {},
   "outputs": [
    {
     "data": {
      "text/plain": [
       "SpectralCube with shape=(1, 4, 3) and unit=Jy / beam:\n",
       " n_x:      3  type_x: RA---ARC  unit_x: deg    range:    52.231466 deg:   52.231544 deg\n",
       " n_y:      4  type_y: DEC--ARC  unit_y: deg    range:    31.243639 deg:   31.243739 deg\n",
       " n_s:      1  type_s: FREQ      unit_s: GHz    range:      225.885 GHz:     225.885 GHz"
      ]
     },
     "execution_count": 11,
     "metadata": {},
     "output_type": "execute_result"
    }
   ],
   "source": [
    "masked_slab"
   ]
  },
  {
   "cell_type": "code",
   "execution_count": 12,
   "metadata": {},
   "outputs": [
    {
     "data": {
      "text/latex": [
       "$[[225.88546,~225.88546,~225.88546],~\n",
       " [225.88546,~225.88546,~225.88546],~\n",
       " [225.88546,~225.88546,~225.88546],~\n",
       " [225.88546,~225.88546,~225.88546]] \\; \\mathrm{GHz}$"
      ],
      "text/plain": [
       "<Projection [[225.88545886, 225.88545886, 225.88545886],\n",
       "             [225.88545886, 225.88545886, 225.88545886],\n",
       "             [225.88545886, 225.88545886, 225.88545886],\n",
       "             [225.88545886, 225.88545886, 225.88545886]] GHz>"
      ]
     },
     "execution_count": 12,
     "metadata": {},
     "output_type": "execute_result"
    }
   ],
   "source": [
    "slab.moment(order=1)"
   ]
  },
  {
   "cell_type": "code",
   "execution_count": 47,
   "metadata": {},
   "outputs": [],
   "source": [
    "## Uncomment below to save the 'slab' in a fits file named 'test.fits'\n",
    "## slab.write(\"test.fits\")"
   ]
  },
  {
   "cell_type": "markdown",
   "metadata": {},
   "source": [
    "## Astroquery"
   ]
  },
  {
   "cell_type": "code",
   "execution_count": 13,
   "metadata": {},
   "outputs": [
    {
     "data": {
      "text/html": [
       "<i>Table length=1</i>\n",
       "<table id=\"table140677989531504\" class=\"table-striped table-bordered table-condensed\">\n",
       "<thead><tr><th>MAIN_ID</th><th>RA</th><th>DEC</th><th>RA_PREC</th><th>DEC_PREC</th><th>COO_ERR_MAJA</th><th>COO_ERR_MINA</th><th>COO_ERR_ANGLE</th><th>COO_QUAL</th><th>COO_WAVELENGTH</th><th>COO_BIBCODE</th></tr></thead>\n",
       "<thead><tr><th></th><th>&quot;h:m:s&quot;</th><th>&quot;d:m:s&quot;</th><th></th><th></th><th>mas</th><th>mas</th><th>deg</th><th></th><th></th><th></th></tr></thead>\n",
       "<thead><tr><th>object</th><th>str13</th><th>str13</th><th>int16</th><th>int16</th><th>float32</th><th>float32</th><th>int16</th><th>str1</th><th>str1</th><th>object</th></tr></thead>\n",
       "<tr><td>V* T Tau</td><td>04 21 59.4323</td><td>+19 32 06.439</td><td>14</td><td>14</td><td>0.059</td><td>0.029</td><td>90</td><td>A</td><td>O</td><td>2018yCat.1345....0G</td></tr>\n",
       "</table>"
      ],
      "text/plain": [
       "<Table length=1>\n",
       "MAIN_ID        RA           DEC      ... COO_WAVELENGTH     COO_BIBCODE    \n",
       "            \"h:m:s\"       \"d:m:s\"    ...                                   \n",
       " object      str13         str13     ...      str1             object      \n",
       "-------- ------------- ------------- ... -------------- -------------------\n",
       "V* T Tau 04 21 59.4323 +19 32 06.439 ...              O 2018yCat.1345....0G"
      ]
     },
     "execution_count": 13,
     "metadata": {},
     "output_type": "execute_result"
    }
   ],
   "source": [
    "from astroquery.simbad import Simbad\n",
    "Simbad.query_object(\"T Tau\")"
   ]
  },
  {
   "cell_type": "markdown",
   "metadata": {},
   "source": [
    "## Astropy Tables"
   ]
  },
  {
   "cell_type": "markdown",
   "metadata": {},
   "source": [
    "Link - https://docs.astropy.org/en/stable/table/"
   ]
  },
  {
   "cell_type": "code",
   "execution_count": 49,
   "metadata": {},
   "outputs": [],
   "source": [
    "from astropy.table import QTable\n",
    "import astropy.units as u\n",
    "import numpy as np\n",
    "\n",
    "a = np.array([1, 4, 5], dtype=np.int32)\n",
    "b = [2.0, 5.0, 8.5]\n",
    "c = ['x', 'y', 'z']\n",
    "d = [10, 20, 30] * u.m / u.s\n",
    "\n",
    "table = QTable([a, b, c, d],\n",
    "           names=('a', 'b', 'c', 'd'),\n",
    "           meta={'name': 'first table'})\n"
   ]
  },
  {
   "cell_type": "markdown",
   "metadata": {},
   "source": [
    "Using a mask to select entries of interest -"
   ]
  },
  {
   "cell_type": "code",
   "execution_count": 51,
   "metadata": {},
   "outputs": [
    {
     "data": {
      "text/plain": [
       "array([False,  True,  True])"
      ]
     },
     "execution_count": 51,
     "metadata": {},
     "output_type": "execute_result"
    }
   ],
   "source": [
    "table['b'] > 3      # Mask"
   ]
  },
  {
   "cell_type": "code",
   "execution_count": 52,
   "metadata": {},
   "outputs": [
    {
     "data": {
      "text/html": [
       "<i>QTable length=2</i>\n",
       "<table id=\"table140677955043776\" class=\"table-striped table-bordered table-condensed\">\n",
       "<thead><tr><th>a</th><th>b</th><th>c</th><th>d</th></tr></thead>\n",
       "<thead><tr><th></th><th></th><th></th><th>m / s</th></tr></thead>\n",
       "<thead><tr><th>int32</th><th>float64</th><th>str1</th><th>float64</th></tr></thead>\n",
       "<tr><td>4</td><td>5.0</td><td>y</td><td>20.0</td></tr>\n",
       "<tr><td>5</td><td>8.5</td><td>z</td><td>30.0</td></tr>\n",
       "</table>"
      ],
      "text/plain": [
       "<QTable length=2>\n",
       "  a      b     c      d   \n",
       "                    m / s \n",
       "int32 float64 str1 float64\n",
       "----- ------- ---- -------\n",
       "    4     5.0    y    20.0\n",
       "    5     8.5    z    30.0"
      ]
     },
     "execution_count": 52,
     "metadata": {},
     "output_type": "execute_result"
    }
   ],
   "source": [
    "table[table['b'] > 3]    # Passing mask as argument"
   ]
  },
  {
   "cell_type": "markdown",
   "metadata": {},
   "source": [
    "## Some Useful IPython Commands"
   ]
  },
  {
   "cell_type": "code",
   "execution_count": 14,
   "metadata": {},
   "outputs": [],
   "source": [
    "from astropy.utils import data"
   ]
  },
  {
   "cell_type": "code",
   "execution_count": 15,
   "metadata": {},
   "outputs": [],
   "source": [
    "%pdoc data.get_pkg_data_filename"
   ]
  },
  {
   "cell_type": "code",
   "execution_count": 16,
   "metadata": {},
   "outputs": [
    {
     "name": "stdout",
     "output_type": "stream",
     "text": [
      " \u001b[0mdata\u001b[0m\u001b[0;34m.\u001b[0m\u001b[0mget_pkg_data_filename\u001b[0m\u001b[0;34m(\u001b[0m\u001b[0;34m\u001b[0m\n",
      "\u001b[0;34m\u001b[0m    \u001b[0mdata_name\u001b[0m\u001b[0;34m,\u001b[0m\u001b[0;34m\u001b[0m\n",
      "\u001b[0;34m\u001b[0m    \u001b[0mpackage\u001b[0m\u001b[0;34m=\u001b[0m\u001b[0;32mNone\u001b[0m\u001b[0;34m,\u001b[0m\u001b[0;34m\u001b[0m\n",
      "\u001b[0;34m\u001b[0m    \u001b[0mshow_progress\u001b[0m\u001b[0;34m=\u001b[0m\u001b[0;32mTrue\u001b[0m\u001b[0;34m,\u001b[0m\u001b[0;34m\u001b[0m\n",
      "\u001b[0;34m\u001b[0m    \u001b[0mremote_timeout\u001b[0m\u001b[0;34m=\u001b[0m\u001b[0;32mNone\u001b[0m\u001b[0;34m,\u001b[0m\u001b[0;34m\u001b[0m\n",
      "\u001b[0;34m\u001b[0m\u001b[0;34m)\u001b[0m\u001b[0;34m\u001b[0m\u001b[0;34m\u001b[0m\u001b[0m\n",
      " "
     ]
    }
   ],
   "source": [
    "%pdef data.get_pkg_data_filename"
   ]
  },
  {
   "cell_type": "markdown",
   "metadata": {},
   "source": [
    "You can also use shift-tab for the above."
   ]
  },
  {
   "cell_type": "code",
   "execution_count": 17,
   "metadata": {},
   "outputs": [],
   "source": [
    "%psource data.get_pkg_data_filename"
   ]
  },
  {
   "cell_type": "code",
   "execution_count": 18,
   "metadata": {
    "scrolled": true
   },
   "outputs": [
    {
     "data": {
      "text/plain": [
       "'gurmeet'"
      ]
     },
     "execution_count": 18,
     "metadata": {},
     "output_type": "execute_result"
    }
   ],
   "source": [
    "%env USER"
   ]
  },
  {
   "cell_type": "code",
   "execution_count": 19,
   "metadata": {},
   "outputs": [
    {
     "name": "stdout",
     "output_type": "stream",
     "text": [
      "CPU times: user 3 µs, sys: 0 ns, total: 3 µs\n",
      "Wall time: 4.05 µs\n"
     ]
    },
    {
     "data": {
      "text/plain": [
       "21"
      ]
     },
     "execution_count": 19,
     "metadata": {},
     "output_type": "execute_result"
    }
   ],
   "source": [
    "%time sum([1, 2, 3, 4, 5, 6])"
   ]
  },
  {
   "cell_type": "code",
   "execution_count": 20,
   "metadata": {},
   "outputs": [
    {
     "name": "stdout",
     "output_type": "stream",
     "text": [
      "Simbad\t SpectralCoord\t SpectralCube\t beam_area\t beam_sigma\t cube\t data\t equiv\t fn\t \n",
      "freq\t masked_slab\t np\t sc\t slab\t u\t \n"
     ]
    }
   ],
   "source": [
    "%who"
   ]
  },
  {
   "cell_type": "code",
   "execution_count": 21,
   "metadata": {},
   "outputs": [
    {
     "name": "stdout",
     "output_type": "stream",
     "text": [
      "No variables match your requested type.\n"
     ]
    }
   ],
   "source": [
    "%who list"
   ]
  },
  {
   "cell_type": "markdown",
   "metadata": {},
   "source": [
    "You can also use %pwd and %cd which works as pwd and cd in shell.\n",
    "You can run python scripts as \"%run test.py\"."
   ]
  },
  {
   "cell_type": "markdown",
   "metadata": {},
   "source": [
    "## Toolkit"
   ]
  },
  {
   "cell_type": "code",
   "execution_count": 22,
   "metadata": {},
   "outputs": [],
   "source": [
    "## The line below is required to read the changes in the file. That is, you can change the tools.py file\n",
    "## and run this cell to load it again.\n",
    "%run tools.py\n",
    "\n",
    "import tools"
   ]
  },
  {
   "cell_type": "code",
   "execution_count": 23,
   "metadata": {},
   "outputs": [
    {
     "name": "stdout",
     "output_type": "stream",
     "text": [
      "\u001b[36m____________________________________________________________________________\u001b[0;1m\n",
      "\n",
      " Pipeline started\n",
      "\u001b[0;36m____________________________________________________________________________\u001b[0m\n",
      "\n",
      "  Using:    Source Finding Application (SoFiA)\n",
      "  Version:  2.2.1 (18-Nov-2020)\n",
      "  CPU:      12 cores available\n",
      "  Time:     Thu Jan 21 03:03:23 2021\n",
      "\n",
      "\u001b[36m____________________________________________________________________________\u001b[0;1m\n",
      "\n",
      " Loading parameter settings\n",
      "\u001b[0;36m____________________________________________________________________________\u001b[0m\n",
      "\n",
      "  Activating SoFiA default parameter settings.\n",
      "  Loading user parameter file: 't.par'.\n",
      "\n",
      "  Using all 12 available CPU cores.\n",
      "\n",
      "\u001b[36m____________________________________________________________________________\u001b[0;1m\n",
      "\n",
      " Loading data cube\n",
      "\u001b[0;36m____________________________________________________________________________\u001b[0m\n",
      "\n",
      "  Opening FITS file 'sofia_test_datacube.fits'.\n",
      "  Reading FITS data with the following specifications:\n",
      "    Data type:    -32\n",
      "    No. of axes:  3\n",
      "    Axis sizes:   200, 200, 100\n",
      "    Region:       0-199, 0-199, 0-99\n",
      "    Memory used:  15.3 MB\n",
      "  Searching for values of infinity.\n",
      "    No infinite pixel values found.\n",
      "\n",
      "\u001b[36m  Elapsed time: 00:00:00 h\n",
      "  CPU time:     00:00:00 h\u001b[0m\n",
      "\n",
      "\u001b[36m____________________________________________________________________________\u001b[0;1m\n",
      "\n",
      " Measuring global noise level\n",
      "\u001b[0;36m____________________________________________________________________________\u001b[0m\n",
      "\n",
      "  Global RMS:  5.142e-04  (using stride of 4)\n",
      "\n",
      "\u001b[36m  Elapsed time: 00:00:00 h\n",
      "  CPU time:     00:00:00 h\u001b[0m\n",
      "\n",
      "\u001b[36m____________________________________________________________________________\u001b[0;1m\n",
      "\n",
      " Running S+C finder\n",
      "\u001b[0;36m____________________________________________________________________________\u001b[0m\n",
      "\n",
      "  Using the following parameters:\n",
      "  - Kernels\n",
      "    - spatial:        0, 5, 10\n",
      "    - spectral:       0, 3, 7, 15\n",
      "  - Flux threshold:   3.5 * rms\n",
      "  - Noise statistic:  median absolute deviation\n",
      "  - Flux range:       negative\n",
      "\n",
      "  Using a stride of 4 in noise measurement.\n",
      "\n",
      "  Smoothing kernel:  [0.0] x [0]\n",
      "  Noise level:       5.142e-04\n",
      "\n",
      "\u001b[36m  Elapsed time: 00:00:00 h\n",
      "  CPU time:     00:00:00 h\u001b[0m\n",
      "\n",
      "  Smoothing kernel:  [0.0] x [3]\n",
      "  Noise level:       4.372e-04\n",
      "\n",
      "\u001b[36m  Elapsed time: 00:00:00 h\n",
      "  CPU time:     00:00:01 h\u001b[0m\n",
      "\n",
      "  Smoothing kernel:  [0.0] x [7]\n",
      "  Noise level:       3.294e-04\n",
      "\n",
      "\u001b[36m  Elapsed time: 00:00:00 h\n",
      "  CPU time:     00:00:01 h\u001b[0m\n",
      "\n",
      "  Smoothing kernel:  [0.0] x [15]\n",
      "  Noise level:       2.461e-04\n",
      "\n",
      "\u001b[36m  Elapsed time: 00:00:00 h\n",
      "  CPU time:     00:00:01 h\u001b[0m\n",
      "\n",
      "  Smoothing kernel:  [5.0] x [0]\n",
      "  Noise level:       2.641e-04\n",
      "\n",
      "\u001b[36m  Elapsed time: 00:00:00 h\n",
      "  CPU time:     00:00:02 h\u001b[0m\n",
      "\n",
      "  Smoothing kernel:  [5.0] x [3]\n",
      "  Noise level:       2.261e-04\n",
      "\n",
      "\u001b[36m  Elapsed time: 00:00:00 h\n",
      "  CPU time:     00:00:02 h\u001b[0m\n",
      "\n",
      "  Smoothing kernel:  [5.0] x [7]\n",
      "  Noise level:       1.754e-04\n",
      "\n",
      "\u001b[36m  Elapsed time: 00:00:00 h\n",
      "  CPU time:     00:00:03 h\u001b[0m\n",
      "\n",
      "  Smoothing kernel:  [5.0] x [15]\n",
      "  Noise level:       1.366e-04\n",
      "\n",
      "\u001b[36m  Elapsed time: 00:00:00 h\n",
      "  CPU time:     00:00:03 h\u001b[0m\n",
      "\n",
      "  Smoothing kernel:  [10.0] x [0]\n",
      "  Noise level:       1.357e-04\n",
      "\n",
      "\u001b[36m  Elapsed time: 00:00:00 h\n",
      "  CPU time:     00:00:03 h\u001b[0m\n",
      "\n",
      "  Smoothing kernel:  [10.0] x [3]\n",
      "  Noise level:       1.196e-04\n",
      "\n",
      "\u001b[36m  Elapsed time: 00:00:00 h\n",
      "  CPU time:     00:00:04 h\u001b[0m\n",
      "\n",
      "  Smoothing kernel:  [10.0] x [7]\n",
      "  Noise level:       9.714e-05\n",
      "\n",
      "\u001b[36m  Elapsed time: 00:00:00 h\n",
      "  CPU time:     00:00:04 h\u001b[0m\n",
      "\n",
      "  Smoothing kernel:  [10.0] x [15]\n",
      "  Noise level:       8.037e-05\n",
      "\n",
      "\u001b[36m  Elapsed time: 00:00:00 h\n",
      "  CPU time:     00:00:04 h\u001b[0m\n",
      "\n",
      "  78044 pixels detected (1.951%).\n",
      "\n",
      "\u001b[36m____________________________________________________________________________\u001b[0;1m\n",
      "\n",
      " Running Linker\n",
      "\u001b[0;36m____________________________________________________________________________\u001b[0m\n",
      "\n",
      "  Linker settings:\n",
      "   - Merging radii:  1, 1, 1\n",
      "   - Minimum size:   5 x 5 x 5\n",
      "   - Keep negative:  yes\n",
      "\n",
      "  Progress:  |\u001b[33m                                                  \u001b[0m| 1%\r",
      "  Progress:  |\u001b[33m=                                                 \u001b[0m| 2%\r",
      "  Progress:  |\u001b[33m=                                                 \u001b[0m| 3%\r",
      "  Progress:  |\u001b[33m==                                                \u001b[0m| 4%\r",
      "  Progress:  |\u001b[33m==                                                \u001b[0m| 5%\r",
      "  Progress:  |\u001b[33m===                                               \u001b[0m| 6%\r",
      "  Progress:  |\u001b[33m===                                               \u001b[0m| 7%\r",
      "  Progress:  |\u001b[33m====                                              \u001b[0m| 8%\r",
      "  Progress:  |\u001b[33m====                                              \u001b[0m| 9%\r",
      "  Progress:  |\u001b[33m=====                                             \u001b[0m| 10%\r",
      "  Progress:  |\u001b[33m=====                                             \u001b[0m| 11%\r",
      "  Progress:  |\u001b[33m======                                            \u001b[0m| 12%\r",
      "  Progress:  |\u001b[33m======                                            \u001b[0m| 13%\r",
      "  Progress:  |\u001b[33m=======                                           \u001b[0m| 14%\r",
      "  Progress:  |\u001b[33m=======                                           \u001b[0m| 15%\r",
      "  Progress:  |\u001b[33m========                                          \u001b[0m| 16%\r",
      "  Progress:  |\u001b[33m========                                          \u001b[0m| 17%\r",
      "  Progress:  |\u001b[33m=========                                         \u001b[0m| 18%\r",
      "  Progress:  |\u001b[33m=========                                         \u001b[0m| 19%\r",
      "  Progress:  |\u001b[33m==========                                        \u001b[0m| 20%\r",
      "  Progress:  |\u001b[33m==========                                        \u001b[0m| 21%\r",
      "  Progress:  |\u001b[33m===========                                       \u001b[0m| 22%\r",
      "  Progress:  |\u001b[33m===========                                       \u001b[0m| 23%\r",
      "  Progress:  |\u001b[33m============                                      \u001b[0m| 24%\r",
      "  Progress:  |\u001b[33m============                                      \u001b[0m| 25%\r",
      "  Progress:  |\u001b[33m=============                                     \u001b[0m| 26%\r",
      "  Progress:  |\u001b[33m=============                                     \u001b[0m| 27%\r",
      "  Progress:  |\u001b[33m==============                                    \u001b[0m| 28%\r",
      "  Progress:  |\u001b[33m==============                                    \u001b[0m| 29%\r",
      "  Progress:  |\u001b[33m===============                                   \u001b[0m| 30%\r",
      "  Progress:  |\u001b[33m===============                                   \u001b[0m| 31%\r",
      "  Progress:  |\u001b[33m================                                  \u001b[0m| 32%\r",
      "  Progress:  |\u001b[33m================                                  \u001b[0m| 33%\r",
      "  Progress:  |\u001b[33m=================                                 \u001b[0m| 34%\r",
      "  Progress:  |\u001b[33m=================                                 \u001b[0m| 35%\r",
      "  Progress:  |\u001b[33m==================                                \u001b[0m| 36%\r",
      "  Progress:  |\u001b[33m==================                                \u001b[0m| 37%\r",
      "  Progress:  |\u001b[33m===================                               \u001b[0m| 38%\r",
      "  Progress:  |\u001b[33m===================                               \u001b[0m| 39%\r",
      "  Progress:  |\u001b[33m====================                              \u001b[0m| 40%\r",
      "  Progress:  |\u001b[33m====================                              \u001b[0m| 41%\r",
      "  Progress:  |\u001b[33m=====================                             \u001b[0m| 42%\r",
      "  Progress:  |\u001b[33m=====================                             \u001b[0m| 43%\r",
      "  Progress:  |\u001b[33m======================                            \u001b[0m| 44%\r",
      "  Progress:  |\u001b[33m======================                            \u001b[0m| 45%\r",
      "  Progress:  |\u001b[33m=======================                           \u001b[0m| 46%\r",
      "  Progress:  |\u001b[33m=======================                           \u001b[0m| 47%\r",
      "  Progress:  |\u001b[33m========================                          \u001b[0m| 48%\r",
      "  Progress:  |\u001b[33m========================                          \u001b[0m| 49%\r",
      "  Progress:  |\u001b[33m=========================                         \u001b[0m| 50%\r",
      "  Progress:  |\u001b[33m=========================                         \u001b[0m| 51%\r",
      "  Progress:  |\u001b[33m==========================                        \u001b[0m| 52%\r",
      "  Progress:  |\u001b[33m==========================                        \u001b[0m| 53%\r",
      "  Progress:  |\u001b[33m===========================                       \u001b[0m| 54%\r",
      "  Progress:  |\u001b[33m===========================                       \u001b[0m| 55%\r",
      "  Progress:  |\u001b[33m============================                      \u001b[0m| 56%\r",
      "  Progress:  |\u001b[33m============================                      \u001b[0m| 57%\r",
      "  Progress:  |\u001b[33m=============================                     \u001b[0m| 58%\r",
      "  Progress:  |\u001b[33m=============================                     \u001b[0m| 59%\r",
      "  Progress:  |\u001b[33m==============================                    \u001b[0m| 60%\r",
      "  Progress:  |\u001b[33m==============================                    \u001b[0m| 61%\r",
      "  Progress:  |\u001b[33m===============================                   \u001b[0m| 62%\r",
      "  Progress:  |\u001b[33m===============================                   \u001b[0m| 63%\r",
      "  Progress:  |\u001b[33m================================                  \u001b[0m| 64%\r",
      "  Progress:  |\u001b[33m================================                  \u001b[0m| 65%\r",
      "  Progress:  |\u001b[33m=================================                 \u001b[0m| 66%\r",
      "  Progress:  |\u001b[33m=================================                 \u001b[0m| 67%\r",
      "  Progress:  |\u001b[33m==================================                \u001b[0m| 68%\r",
      "  Progress:  |\u001b[33m==================================                \u001b[0m| 69%\r",
      "  Progress:  |\u001b[33m===================================               \u001b[0m| 70%\r",
      "  Progress:  |\u001b[33m===================================               \u001b[0m| 71%\r",
      "  Progress:  |\u001b[33m====================================              \u001b[0m| 72%\r",
      "  Progress:  |\u001b[33m====================================              \u001b[0m| 73%\r",
      "  Progress:  |\u001b[33m=====================================             \u001b[0m| 74%\r",
      "  Progress:  |\u001b[33m=====================================             \u001b[0m| 75%\r",
      "  Progress:  |\u001b[33m======================================            \u001b[0m| 76%\r",
      "  Progress:  |\u001b[33m======================================            \u001b[0m| 77%\r",
      "  Progress:  |\u001b[33m=======================================           \u001b[0m| 78%\r",
      "  Progress:  |\u001b[33m=======================================           \u001b[0m| 79%\r",
      "  Progress:  |\u001b[33m========================================          \u001b[0m| 80%\r",
      "  Progress:  |\u001b[33m========================================          \u001b[0m| 81%\r",
      "  Progress:  |\u001b[33m=========================================         \u001b[0m| 82%\r",
      "  Progress:  |\u001b[33m=========================================         \u001b[0m| 83%\r",
      "  Progress:  |\u001b[33m==========================================        \u001b[0m| 84%\r",
      "  Progress:  |\u001b[33m==========================================        \u001b[0m| 85%\r",
      "  Progress:  |\u001b[33m===========================================       \u001b[0m| 86%\r",
      "  Progress:  |\u001b[33m===========================================       \u001b[0m| 87%\r",
      "  Progress:  |\u001b[33m============================================      \u001b[0m| 88%\r",
      "  Progress:  |\u001b[33m============================================      \u001b[0m| 89%\r",
      "  Progress:  |\u001b[33m=============================================     \u001b[0m| 90%\r",
      "  Progress:  |\u001b[33m=============================================     \u001b[0m| 91%\r",
      "  Progress:  |\u001b[33m==============================================    \u001b[0m| 92%\r",
      "  Progress:  |\u001b[33m==============================================    \u001b[0m| 93%\r",
      "  Progress:  |\u001b[33m===============================================   \u001b[0m| 94%\r",
      "  Progress:  |\u001b[33m===============================================   \u001b[0m| 95%\r",
      "  Progress:  |\u001b[33m================================================  \u001b[0m| 96%\r",
      "  Progress:  |\u001b[33m================================================  \u001b[0m| 97%\r",
      "  Progress:  |\u001b[33m================================================= \u001b[0m| 98%\r",
      "  Progress:  |\u001b[33m================================================= \u001b[0m| 99%\r",
      "  Progress:  |\u001b[32m==================================================\u001b[0m| 100%\r\n",
      "\n",
      "  Linker status:\n",
      "   - No. of objects:  28\n",
      "   - Memory usage:    2.65 kB\n",
      "\n",
      "\n",
      "\u001b[36m  Elapsed time: 00:00:00 h\n",
      "  CPU time:     00:00:05 h\u001b[0m\n",
      "\n",
      "\u001b[36m____________________________________________________________________________\u001b[0;1m\n",
      "\n",
      " Measuring reliability\n",
      "\u001b[0;36m____________________________________________________________________________\u001b[0m\n",
      "\n",
      "  Found 10 positive and 18 negative sources.\n",
      "  Retaining all negative detections.\n",
      "  \n",
      "  Progress:  |\u001b[33m=====                                             \u001b[0m| 10%\r",
      "  Progress:  |\u001b[33m==========                                        \u001b[0m| 20%\r",
      "  Progress:  |\u001b[33m===============                                   \u001b[0m| 30%\r",
      "  Progress:  |\u001b[33m====================                              \u001b[0m| 40%\r",
      "  Progress:  |\u001b[33m=========================                         \u001b[0m| 50%\r",
      "  Progress:  |\u001b[33m==============================                    \u001b[0m| 60%\r",
      "  Progress:  |\u001b[33m===================================               \u001b[0m| 70%\r",
      "  Progress:  |\u001b[33m========================================          \u001b[0m| 80%\r",
      "  Progress:  |\u001b[33m=============================================     \u001b[0m| 90%\r",
      "  Progress:  |\u001b[32m==================================================\u001b[0m| 100%\r\n",
      "\n",
      "  Creating postscript file: sofia_test_output_rel.eps\n",
      "  3 reliable sources found.\n",
      "\n",
      "\u001b[36m  Elapsed time: 00:00:00 h\n",
      "  CPU time:     00:00:05 h\u001b[0m\n",
      "\n",
      "\u001b[36m____________________________________________________________________________\u001b[0;1m\n",
      "\n",
      " Measuring source parameters\n",
      "\u001b[0;36m____________________________________________________________________________\u001b[0m\n",
      "\n",
      "  Found 3 sources in need of parameterisation.\n",
      "  Assuming beam size of 3.8 x 3.8 pixels.\n",
      "\n",
      "  WCS setup successful.\n",
      "\n",
      "  Progress:  |\u001b[33m================                                  \u001b[0m| 33%\r",
      "  Progress:  |\u001b[33m=================================                 \u001b[0m| 66%\r",
      "  Progress:  |\u001b[32m==================================================\u001b[0m| 100%\r\n",
      "\n",
      "\n",
      "\u001b[36m  Elapsed time: 00:00:00 h\n",
      "  CPU time:     00:00:05 h\u001b[0m\n",
      "\n",
      "\u001b[36m____________________________________________________________________________\u001b[0;1m\n",
      "\n",
      " Creating moment maps\n",
      "\u001b[0;36m____________________________________________________________________________\u001b[0m\n",
      "\n",
      "  WCS setup successful.\n",
      "\n",
      "  Creating FITS file: sofia_test_output_mom0.fits\n",
      "  Creating FITS file: sofia_test_output_mom1.fits\n",
      "  Creating FITS file: sofia_test_output_mom2.fits\n",
      "  Creating FITS file: sofia_test_output_chan.fits\n",
      "\n",
      "\u001b[36m  Elapsed time: 00:00:01 h\n",
      "  CPU time:     00:00:05 h\u001b[0m\n",
      "\n",
      "\u001b[36m____________________________________________________________________________\u001b[0;1m\n",
      "\n",
      " Writing mask cube\n",
      "\u001b[0;36m____________________________________________________________________________\u001b[0m\n",
      "\n",
      "  Creating FITS file: sofia_test_output_mask-2d.fits\n",
      "  Creating FITS file: sofia_test_output_mask.fits\n",
      "\n",
      "\u001b[36m  Elapsed time: 00:00:01 h\n",
      "  CPU time:     00:00:05 h\u001b[0m\n",
      "\n",
      "\u001b[36m____________________________________________________________________________\u001b[0;1m\n",
      "\n",
      " Writing source catalogue\n",
      "\u001b[0;36m____________________________________________________________________________\u001b[0m\n",
      "\n",
      "  Writing ASCII file:   sofia_test_output_cat.txt\n",
      "  Writing VOTable file: sofia_test_output_cat.xml\n",
      "\n",
      "\u001b[36m  Elapsed time: 00:00:01 h\n",
      "  CPU time:     00:00:05 h\u001b[0m\n",
      "\n",
      "\u001b[36m____________________________________________________________________________\u001b[0;1m\n",
      "\n",
      " Pipeline finished.\n",
      "\u001b[0;36m____________________________________________________________________________\u001b[0m\n",
      "\n",
      "\n"
     ]
    }
   ],
   "source": [
    "par = {\n",
    "        'input.data'                 :  'sofia_test_datacube.fits',\n",
    "        'scaleNoise.mode'            :  'local',\n",
    "        'scaleNoise.windowXY'        :  31,\n",
    "        'scaleNoise.windowZ'         :  31,\n",
    "        'scfind.kernelsXY'           :  '0, 5, 10',\n",
    "        'scfind.threshold'           :  3.5,\n",
    "        'reliability.enable'         :  'true',\n",
    "        'reliability.fmin'           :  25.0,\n",
    "        'output.directory'           :  'sofia_test',\n",
    "        'output.filename'            :  'sofia_test_output',\n",
    "        'output.writeMask'           :  'true',\n",
    "        'output.writeMask2d'         :  'true',\n",
    "        'output.writeMoments'        :  'true',\n",
    "        'output.marginCubelets'      :  10,\n",
    "        'output.overwrite'           :  'true'\n",
    "    }\n",
    "\n",
    "o, e = run_sofia(par, \"t.par\")\n",
    "print(o)"
   ]
  },
  {
   "cell_type": "code",
   "execution_count": 24,
   "metadata": {},
   "outputs": [
    {
     "name": "stdout",
     "output_type": "stream",
     "text": [
      "\u001b[36m____________________________________________________________________________\u001b[0;1m\n",
      "\n",
      " Pipeline started\n",
      "\u001b[0;36m____________________________________________________________________________\u001b[0m\n",
      "\n",
      "  Using:    Source Finding Application (SoFiA)\n",
      "  Version:  2.2.1 (18-Nov-2020)\n",
      "  CPU:      12 cores available\n",
      "  Time:     Thu Jan 21 03:03:24 2021\n",
      "\n",
      "\u001b[36m____________________________________________________________________________\u001b[0;1m\n",
      "\n",
      " Loading parameter settings\n",
      "\u001b[0;36m____________________________________________________________________________\u001b[0m\n",
      "\n",
      "  Activating SoFiA default parameter settings.\n",
      "  Loading user parameter file: 't.par'.\n",
      "\n",
      "  Using all 12 available CPU cores.\n",
      "\n",
      "\u001b[36m____________________________________________________________________________\u001b[0;1m\n",
      "\n",
      " Loading data cube\n",
      "\u001b[0;36m____________________________________________________________________________\u001b[0m\n",
      "\n",
      "  Opening FITS file 'sofia_test_datacube.fits'.\n",
      "  Reading FITS data with the following specifications:\n",
      "    Data type:    -32\n",
      "    No. of axes:  3\n",
      "    Axis sizes:   200, 200, 100\n",
      "    Region:       0-199, 0-199, 0-99\n",
      "    Memory used:  15.3 MB\n",
      "  Searching for values of infinity.\n",
      "    No infinite pixel values found.\n",
      "\n",
      "\u001b[36m  Elapsed time: 00:00:00 h\n",
      "  CPU time:     00:00:00 h\u001b[0m\n",
      "\n",
      "\u001b[36m____________________________________________________________________________\u001b[0;1m\n",
      "\n",
      " Measuring global noise level\n",
      "\u001b[0;36m____________________________________________________________________________\u001b[0m\n",
      "\n",
      "  Global RMS:  5.142e-04  (using stride of 4)\n",
      "\n",
      "\u001b[36m  Elapsed time: 00:00:00 h\n",
      "  CPU time:     00:00:00 h\u001b[0m\n",
      "\n",
      "\u001b[36m____________________________________________________________________________\u001b[0;1m\n",
      "\n",
      " Running S+C finder\n",
      "\u001b[0;36m____________________________________________________________________________\u001b[0m\n",
      "\n",
      "  Using the following parameters:\n",
      "  - Kernels\n",
      "    - spatial:        0, 5, 10\n",
      "    - spectral:       0, 3, 7, 15\n",
      "  - Flux threshold:   5.0 * rms\n",
      "  - Noise statistic:  median absolute deviation\n",
      "  - Flux range:       negative\n",
      "\n",
      "  Using a stride of 4 in noise measurement.\n",
      "\n",
      "  Smoothing kernel:  [0.0] x [0]\n",
      "  Noise level:       5.142e-04\n",
      "\n",
      "\u001b[36m  Elapsed time: 00:00:00 h\n",
      "  CPU time:     00:00:00 h\u001b[0m\n",
      "\n",
      "  Smoothing kernel:  [0.0] x [3]\n",
      "  Noise level:       4.372e-04\n",
      "\n",
      "\u001b[36m  Elapsed time: 00:00:00 h\n",
      "  CPU time:     00:00:01 h\u001b[0m\n",
      "\n",
      "  Smoothing kernel:  [0.0] x [7]\n",
      "  Noise level:       3.294e-04\n",
      "\n",
      "\u001b[36m  Elapsed time: 00:00:00 h\n",
      "  CPU time:     00:00:01 h\u001b[0m\n",
      "\n",
      "  Smoothing kernel:  [0.0] x [15]\n",
      "  Noise level:       2.463e-04\n",
      "\n",
      "\u001b[36m  Elapsed time: 00:00:00 h\n",
      "  CPU time:     00:00:01 h\u001b[0m\n",
      "\n",
      "  Smoothing kernel:  [5.0] x [0]\n",
      "  Noise level:       2.642e-04\n",
      "\n",
      "\u001b[36m  Elapsed time: 00:00:00 h\n",
      "  CPU time:     00:00:01 h\u001b[0m\n",
      "\n",
      "  Smoothing kernel:  [5.0] x [3]\n",
      "  Noise level:       2.263e-04\n",
      "\n",
      "\u001b[36m  Elapsed time: 00:00:00 h\n",
      "  CPU time:     00:00:02 h\u001b[0m\n",
      "\n",
      "  Smoothing kernel:  [5.0] x [7]\n",
      "  Noise level:       1.757e-04\n",
      "\n",
      "\u001b[36m  Elapsed time: 00:00:00 h\n",
      "  CPU time:     00:00:02 h\u001b[0m\n",
      "\n",
      "  Smoothing kernel:  [5.0] x [15]\n",
      "  Noise level:       1.370e-04\n",
      "\n",
      "\u001b[36m  Elapsed time: 00:00:00 h\n",
      "  CPU time:     00:00:02 h\u001b[0m\n",
      "\n",
      "  Smoothing kernel:  [10.0] x [0]\n",
      "  Noise level:       1.360e-04\n",
      "\n",
      "\u001b[36m  Elapsed time: 00:00:00 h\n",
      "  CPU time:     00:00:03 h\u001b[0m\n",
      "\n",
      "  Smoothing kernel:  [10.0] x [3]\n",
      "  Noise level:       1.198e-04\n",
      "\n",
      "\u001b[36m  Elapsed time: 00:00:00 h\n",
      "  CPU time:     00:00:03 h\u001b[0m\n",
      "\n",
      "  Smoothing kernel:  [10.0] x [7]\n",
      "  Noise level:       9.729e-05\n",
      "\n",
      "\u001b[36m  Elapsed time: 00:00:00 h\n",
      "  CPU time:     00:00:03 h\u001b[0m\n",
      "\n",
      "  Smoothing kernel:  [10.0] x [15]\n",
      "  Noise level:       8.049e-05\n",
      "\n",
      "\u001b[36m  Elapsed time: 00:00:00 h\n",
      "  CPU time:     00:00:04 h\u001b[0m\n",
      "\n",
      "  25518 pixels detected (0.638%).\n",
      "\n",
      "\u001b[36m____________________________________________________________________________\u001b[0;1m\n",
      "\n",
      " Running Linker\n",
      "\u001b[0;36m____________________________________________________________________________\u001b[0m\n",
      "\n",
      "  Linker settings:\n",
      "   - Merging radii:  1, 1, 1\n",
      "   - Minimum size:   5 x 5 x 5\n",
      "   - Keep negative:  yes\n",
      "\n",
      "  Progress:  |\u001b[33m                                                  \u001b[0m| 1%\r",
      "  Progress:  |\u001b[33m=                                                 \u001b[0m| 2%\r",
      "  Progress:  |\u001b[33m=                                                 \u001b[0m| 3%\r",
      "  Progress:  |\u001b[33m==                                                \u001b[0m| 4%\r",
      "  Progress:  |\u001b[33m==                                                \u001b[0m| 5%\r",
      "  Progress:  |\u001b[33m===                                               \u001b[0m| 6%\r",
      "  Progress:  |\u001b[33m===                                               \u001b[0m| 7%\r",
      "  Progress:  |\u001b[33m====                                              \u001b[0m| 8%\r",
      "  Progress:  |\u001b[33m====                                              \u001b[0m| 9%\r",
      "  Progress:  |\u001b[33m=====                                             \u001b[0m| 10%\r",
      "  Progress:  |\u001b[33m=====                                             \u001b[0m| 11%\r",
      "  Progress:  |\u001b[33m======                                            \u001b[0m| 12%\r",
      "  Progress:  |\u001b[33m======                                            \u001b[0m| 13%\r",
      "  Progress:  |\u001b[33m=======                                           \u001b[0m| 14%\r",
      "  Progress:  |\u001b[33m=======                                           \u001b[0m| 15%\r",
      "  Progress:  |\u001b[33m========                                          \u001b[0m| 16%\r",
      "  Progress:  |\u001b[33m========                                          \u001b[0m| 17%\r",
      "  Progress:  |\u001b[33m=========                                         \u001b[0m| 18%\r",
      "  Progress:  |\u001b[33m=========                                         \u001b[0m| 19%\r",
      "  Progress:  |\u001b[33m==========                                        \u001b[0m| 20%\r",
      "  Progress:  |\u001b[33m==========                                        \u001b[0m| 21%\r",
      "  Progress:  |\u001b[33m===========                                       \u001b[0m| 22%\r",
      "  Progress:  |\u001b[33m===========                                       \u001b[0m| 23%\r",
      "  Progress:  |\u001b[33m============                                      \u001b[0m| 24%\r",
      "  Progress:  |\u001b[33m============                                      \u001b[0m| 25%\r",
      "  Progress:  |\u001b[33m=============                                     \u001b[0m| 26%\r",
      "  Progress:  |\u001b[33m=============                                     \u001b[0m| 27%\r",
      "  Progress:  |\u001b[33m==============                                    \u001b[0m| 28%\r",
      "  Progress:  |\u001b[33m==============                                    \u001b[0m| 29%\r",
      "  Progress:  |\u001b[33m===============                                   \u001b[0m| 30%\r",
      "  Progress:  |\u001b[33m===============                                   \u001b[0m| 31%\r",
      "  Progress:  |\u001b[33m================                                  \u001b[0m| 32%\r",
      "  Progress:  |\u001b[33m================                                  \u001b[0m| 33%\r",
      "  Progress:  |\u001b[33m=================                                 \u001b[0m| 34%\r",
      "  Progress:  |\u001b[33m=================                                 \u001b[0m| 35%\r",
      "  Progress:  |\u001b[33m==================                                \u001b[0m| 36%\r",
      "  Progress:  |\u001b[33m==================                                \u001b[0m| 37%\r",
      "  Progress:  |\u001b[33m===================                               \u001b[0m| 38%\r",
      "  Progress:  |\u001b[33m===================                               \u001b[0m| 39%\r",
      "  Progress:  |\u001b[33m====================                              \u001b[0m| 40%\r",
      "  Progress:  |\u001b[33m====================                              \u001b[0m| 41%\r",
      "  Progress:  |\u001b[33m=====================                             \u001b[0m| 42%\r",
      "  Progress:  |\u001b[33m=====================                             \u001b[0m| 43%\r",
      "  Progress:  |\u001b[33m======================                            \u001b[0m| 44%\r",
      "  Progress:  |\u001b[33m======================                            \u001b[0m| 45%\r",
      "  Progress:  |\u001b[33m=======================                           \u001b[0m| 46%\r",
      "  Progress:  |\u001b[33m=======================                           \u001b[0m| 47%\r",
      "  Progress:  |\u001b[33m========================                          \u001b[0m| 48%\r",
      "  Progress:  |\u001b[33m========================                          \u001b[0m| 49%\r",
      "  Progress:  |\u001b[33m=========================                         \u001b[0m| 50%\r",
      "  Progress:  |\u001b[33m=========================                         \u001b[0m| 51%\r",
      "  Progress:  |\u001b[33m==========================                        \u001b[0m| 52%\r",
      "  Progress:  |\u001b[33m==========================                        \u001b[0m| 53%\r",
      "  Progress:  |\u001b[33m===========================                       \u001b[0m| 54%\r",
      "  Progress:  |\u001b[33m===========================                       \u001b[0m| 55%\r",
      "  Progress:  |\u001b[33m============================                      \u001b[0m| 56%\r",
      "  Progress:  |\u001b[33m============================                      \u001b[0m| 57%\r",
      "  Progress:  |\u001b[33m=============================                     \u001b[0m| 58%\r",
      "  Progress:  |\u001b[33m=============================                     \u001b[0m| 59%\r",
      "  Progress:  |\u001b[33m==============================                    \u001b[0m| 60%\r",
      "  Progress:  |\u001b[33m==============================                    \u001b[0m| 61%\r",
      "  Progress:  |\u001b[33m===============================                   \u001b[0m| 62%\r",
      "  Progress:  |\u001b[33m===============================                   \u001b[0m| 63%\r",
      "  Progress:  |\u001b[33m================================                  \u001b[0m| 64%\r",
      "  Progress:  |\u001b[33m================================                  \u001b[0m| 65%\r",
      "  Progress:  |\u001b[33m=================================                 \u001b[0m| 66%\r",
      "  Progress:  |\u001b[33m=================================                 \u001b[0m| 67%\r",
      "  Progress:  |\u001b[33m==================================                \u001b[0m| 68%\r",
      "  Progress:  |\u001b[33m==================================                \u001b[0m| 69%\r",
      "  Progress:  |\u001b[33m===================================               \u001b[0m| 70%\r",
      "  Progress:  |\u001b[33m===================================               \u001b[0m| 71%\r",
      "  Progress:  |\u001b[33m====================================              \u001b[0m| 72%\r",
      "  Progress:  |\u001b[33m====================================              \u001b[0m| 73%\r",
      "  Progress:  |\u001b[33m=====================================             \u001b[0m| 74%\r",
      "  Progress:  |\u001b[33m=====================================             \u001b[0m| 75%\r",
      "  Progress:  |\u001b[33m======================================            \u001b[0m| 76%\r",
      "  Progress:  |\u001b[33m======================================            \u001b[0m| 77%\r",
      "  Progress:  |\u001b[33m=======================================           \u001b[0m| 78%\r",
      "  Progress:  |\u001b[33m=======================================           \u001b[0m| 79%\r",
      "  Progress:  |\u001b[33m========================================          \u001b[0m| 80%\r",
      "  Progress:  |\u001b[33m========================================          \u001b[0m| 81%\r",
      "  Progress:  |\u001b[33m=========================================         \u001b[0m| 82%\r",
      "  Progress:  |\u001b[33m=========================================         \u001b[0m| 83%\r",
      "  Progress:  |\u001b[33m==========================================        \u001b[0m| 84%\r",
      "  Progress:  |\u001b[33m==========================================        \u001b[0m| 85%\r",
      "  Progress:  |\u001b[33m===========================================       \u001b[0m| 86%\r",
      "  Progress:  |\u001b[33m===========================================       \u001b[0m| 87%\r",
      "  Progress:  |\u001b[33m============================================      \u001b[0m| 88%\r",
      "  Progress:  |\u001b[33m============================================      \u001b[0m| 89%\r",
      "  Progress:  |\u001b[33m=============================================     \u001b[0m| 90%\r",
      "  Progress:  |\u001b[33m=============================================     \u001b[0m| 91%\r",
      "  Progress:  |\u001b[33m==============================================    \u001b[0m| 92%\r",
      "  Progress:  |\u001b[33m==============================================    \u001b[0m| 93%\r",
      "  Progress:  |\u001b[33m===============================================   \u001b[0m| 94%\r",
      "  Progress:  |\u001b[33m===============================================   \u001b[0m| 95%\r",
      "  Progress:  |\u001b[33m================================================  \u001b[0m| 96%\r",
      "  Progress:  |\u001b[33m================================================  \u001b[0m| 97%\r",
      "  Progress:  |\u001b[33m================================================= \u001b[0m| 98%\r",
      "  Progress:  |\u001b[33m================================================= \u001b[0m| 99%\r",
      "  Progress:  |\u001b[32m==================================================\u001b[0m| 100%\r\n",
      "\n",
      "  Linker status:\n",
      "   - No. of objects:  5\n",
      "   - Memory usage:    0.47 kB\n",
      "\n",
      "\n",
      "\u001b[36m  Elapsed time: 00:00:00 h\n",
      "  CPU time:     00:00:04 h\u001b[0m\n",
      "\n",
      "\u001b[36m____________________________________________________________________________\u001b[0;1m\n",
      "\n",
      " Measuring reliability\n",
      "\u001b[0;36m____________________________________________________________________________\u001b[0m\n",
      "\n",
      "\n"
     ]
    }
   ],
   "source": [
    "par['scfind.threshold'] = 5.0\n",
    "o, e = run_sofia(par, \"t.par\")\n",
    "print(o)"
   ]
  },
  {
   "cell_type": "code",
   "execution_count": 25,
   "metadata": {},
   "outputs": [],
   "source": [
    "sof_cat = read_sofia_cat('sofia_test/sofia_test_output_cat.txt')"
   ]
  },
  {
   "cell_type": "code",
   "execution_count": 26,
   "metadata": {},
   "outputs": [
    {
     "data": {
      "text/plain": [
       "{'Name': 'SoFiA source catalogue',\n",
       " 'Creator': 'SoFiA 2.2.1',\n",
       " 'Time': 'Thu, 21 Jan 2021, 03'}"
      ]
     },
     "execution_count": 26,
     "metadata": {},
     "output_type": "execute_result"
    }
   ],
   "source": [
    "sof_cat.meta"
   ]
  },
  {
   "cell_type": "code",
   "execution_count": 27,
   "metadata": {
    "scrolled": true
   },
   "outputs": [
    {
     "data": {
      "text/html": [
       "<i>QTable length=3</i>\n",
       "<table id=\"table140677982736336-381099\" class=\"table-striped table-bordered table-condensed\">\n",
       "<thead><tr><th>idx</th><th>name</th><th>id</th><th>x</th><th>y</th><th>z</th><th>x_min</th><th>x_max</th><th>y_min</th><th>y_max</th><th>z_min</th><th>z_max</th><th>n_pix</th><th>f_min</th><th>f_max</th><th>f_sum</th><th>rel</th><th>flag</th><th>rms</th><th>w20</th><th>w50</th><th>ell_maj</th><th>ell_min</th><th>ell_pa</th><th>ell3s_maj</th><th>ell3s_min</th><th>ell3s_pa</th><th>kin_pa</th><th>err_x</th><th>err_y</th><th>err_z</th><th>err_f_sum</th><th>ra</th><th>dec</th><th>v_app</th></tr></thead>\n",
       "<thead><tr><th></th><th></th><th></th><th>pix</th><th>pix</th><th>pix</th><th>pix</th><th>pix</th><th>pix</th><th>pix</th><th>pix</th><th>pix</th><th></th><th>Jy / beam</th><th>Jy / beam</th><th>Jy / beam</th><th></th><th></th><th>Jy / beam</th><th>pix</th><th>pix</th><th>pix</th><th>pix</th><th>deg</th><th>pix</th><th>pix</th><th>deg</th><th>deg</th><th>pix</th><th>pix</th><th>pix</th><th>Jy / beam</th><th>deg</th><th>deg</th><th>m / s</th></tr></thead>\n",
       "<tr><td>0</td><td>SoFiA J120120.94+615351.3</td><td>1</td><td>129.125264</td><td>20.629763</td><td>65.647254</td><td>107.0</td><td>152.0</td><td>6.0</td><td>40.0</td><td>26.0</td><td>92.0</td><td>9739</td><td>-0.001793</td><td>0.008109</td><td>6.595021</td><td>1.0</td><td>0</td><td>0.000511323</td><td>63.124195</td><td>59.770925</td><td>18.958007</td><td>8.378541</td><td>84.677761</td><td>20.724186</td><td>9.731326</td><td>85.721676</td><td>261.906859</td><td>0.053727</td><td>0.032332</td><td>0.111765</td><td>0.050461</td><td>180.337261</td><td>61.897581</td><td>1453680.0</td></tr>\n",
       "<tr><td>1</td><td>SoFiA J120215.81+620729.5</td><td>2</td><td>90.614687</td><td>102.608734</td><td>39.348163</td><td>32.0</td><td>114.0</td><td>48.0</td><td>131.0</td><td>9.0</td><td>57.0</td><td>40800</td><td>-0.001631</td><td>0.021599</td><td>61.767522</td><td>1.0</td><td>0</td><td>0.000516049</td><td>28.943364</td><td>23.634322</td><td>26.277876</td><td>21.368981</td><td>-62.44297</td><td>43.368769</td><td>26.372479</td><td>-60.354304</td><td>217.812396</td><td>0.027431</td><td>0.021859</td><td>0.012698</td><td>0.104237</td><td>180.565878</td><td>62.124867</td><td>1236850.0</td></tr>\n",
       "<tr><td>2</td><td>SoFiA J120142.94+621931.7</td><td>3</td><td>113.741005</td><td>174.986039</td><td>22.751703</td><td>105.0</td><td>127.0</td><td>166.0</td><td>186.0</td><td>10.0</td><td>35.0</td><td>3418</td><td>-0.001774</td><td>0.008729</td><td>4.694258</td><td>1.0</td><td>0</td><td>0.000504725</td><td>22.160035</td><td>19.664324</td><td>7.774647</td><td>4.984523</td><td>-19.25138</td><td>10.803999</td><td>7.001589</td><td>-35.348313</td><td>173.651404</td><td>0.022133</td><td>0.024837</td><td>0.032181</td><td>0.029508</td><td>180.428926</td><td>62.325474</td><td>1100010.0</td></tr>\n",
       "</table><style>table.dataTable {clear: both; width: auto !important; margin: 0 !important;}\n",
       ".dataTables_info, .dataTables_length, .dataTables_filter, .dataTables_paginate{\n",
       "display: inline-block; margin-right: 1em; }\n",
       ".paginate_button { margin-right: 5px; }\n",
       "</style>\n",
       "<script>\n",
       "\n",
       "var astropy_sort_num = function(a, b) {\n",
       "    var a_num = parseFloat(a);\n",
       "    var b_num = parseFloat(b);\n",
       "\n",
       "    if (isNaN(a_num) && isNaN(b_num))\n",
       "        return ((a < b) ? -1 : ((a > b) ? 1 : 0));\n",
       "    else if (!isNaN(a_num) && !isNaN(b_num))\n",
       "        return ((a_num < b_num) ? -1 : ((a_num > b_num) ? 1 : 0));\n",
       "    else\n",
       "        return isNaN(a_num) ? -1 : 1;\n",
       "}\n",
       "\n",
       "require.config({paths: {\n",
       "    datatables: 'https://cdn.datatables.net/1.10.12/js/jquery.dataTables.min'\n",
       "}});\n",
       "require([\"datatables\"], function(){\n",
       "    console.log(\"$('#table140677982736336-381099').dataTable()\");\n",
       "    \n",
       "jQuery.extend( jQuery.fn.dataTableExt.oSort, {\n",
       "    \"optionalnum-asc\": astropy_sort_num,\n",
       "    \"optionalnum-desc\": function (a,b) { return -astropy_sort_num(a, b); }\n",
       "});\n",
       "\n",
       "    $('#table140677982736336-381099').dataTable({\n",
       "        order: [],\n",
       "        pageLength: 50,\n",
       "        lengthMenu: [[10, 25, 50, 100, 500, 1000, -1], [10, 25, 50, 100, 500, 1000, 'All']],\n",
       "        pagingType: \"full_numbers\",\n",
       "        columnDefs: [{targets: [0, 2, 3, 4, 5, 6, 7, 8, 9, 10, 11, 12, 13, 14, 15, 16, 17, 18, 19, 20, 21, 22, 23, 24, 25, 26, 27, 28, 29, 30, 31, 32, 33, 34], type: \"optionalnum\"}]\n",
       "    });\n",
       "});\n",
       "</script>\n"
      ],
      "text/plain": [
       "<IPython.core.display.HTML object>"
      ]
     },
     "execution_count": 27,
     "metadata": {},
     "output_type": "execute_result"
    }
   ],
   "source": [
    "sof_cat.show_in_notebook()"
   ]
  },
  {
   "cell_type": "code",
   "execution_count": 28,
   "metadata": {
    "scrolled": true
   },
   "outputs": [],
   "source": [
    "dev_cat = read_SDC_cat('SDC2_Data/dev_s/sky_dev_truthcat.txt')\n",
    "dev_cat.show_in_browser(jsviewer = True)"
   ]
  },
  {
   "cell_type": "code",
   "execution_count": 29,
   "metadata": {},
   "outputs": [
    {
     "data": {
      "image/png": "[encoded data removed]",
      "text/plain": [
       "<Figure size 432x288 with 1 Axes>"
      ]
     },
     "metadata": {
      "needs_background": "light"
     },
     "output_type": "display_data"
    }
   ],
   "source": [
    "import matplotlib.pyplot as plt\n",
    "from mpl_toolkits.mplot3d import axes3d\n",
    "\n",
    "fig = plt.figure()\n",
    "ax = plt.axes(projection=\"3d\")\n",
    "\n",
    "ax.scatter(dev_cat['ra'], dev_cat['dec'], dev_cat['line_flux_integral'], color='b')\n",
    "ax.set_xlabel('RA')\n",
    "ax.set_ylabel('Dec')\n",
    "ax.set_zlabel('Integrated line flux')\n",
    "\n",
    "plt.show()"
   ]
  },
  {
   "cell_type": "code",
   "execution_count": 30,
   "metadata": {},
   "outputs": [],
   "source": [
    "dev_cat.sort(['line_flux_integral'], reverse = True)"
   ]
  },
  {
   "cell_type": "code",
   "execution_count": 87,
   "metadata": {
    "scrolled": true
   },
   "outputs": [],
   "source": [
    "dev_cat.show_in_browser(jsviewer = True) ## dev_cat.show_in_notebook() or dev_cat.show_in_browser(jsviewer = True) for interactive"
   ]
  },
  {
   "cell_type": "code",
   "execution_count": 85,
   "metadata": {},
   "outputs": [
    {
     "data": {
      "text/html": [
       "<i>Row index=0</i>\n",
       "<table id=\"table140677982735424\">\n",
       "<thead><tr><th>id</th><th>ra</th><th>dec</th><th>hi_size</th><th>line_flux_integral</th><th>central_freq</th><th>pa</th><th>i</th><th>w20</th></tr></thead>\n",
       "<thead><tr><th>int64</th><th>float64</th><th>float64</th><th>float64</th><th>float64</th><th>float64</th><th>float64</th><th>float64</th><th>float64</th></tr></thead>\n",
       "<tr><td>701</td><td>180.26791381835938</td><td>-29.983800888061523</td><td>35.73054490935102</td><td>566.6747759983484</td><td>1108079232.0</td><td>1.2157917022705078</td><td>87.32292175292969</td><td>798.4859955973991</td></tr>\n",
       "</table>"
      ],
      "text/plain": [
       "<Row index=0>\n",
       "  id          ra                 dec              hi_size      line_flux_integral central_freq         pa                 i                w20       \n",
       "int64      float64             float64            float64           float64         float64         float64            float64           float64     \n",
       "----- ------------------ ------------------- ----------------- ------------------ ------------ ------------------ ----------------- -----------------\n",
       "  701 180.26791381835938 -29.983800888061523 35.73054490935102  566.6747759983484 1108079232.0 1.2157917022705078 87.32292175292969 798.4859955973991"
      ]
     },
     "execution_count": 85,
     "metadata": {},
     "output_type": "execute_result"
    }
   ],
   "source": [
    "dev_cat[0]"
   ]
  },
  {
   "cell_type": "code",
   "execution_count": 56,
   "metadata": {
    "scrolled": false
   },
   "outputs": [
    {
     "data": {
      "text/html": [
       "<i>Table length=849</i>\n",
       "<table id=\"table140677955043392\" class=\"table-striped table-bordered table-condensed\">\n",
       "<thead><tr><th>id</th><th>ra</th><th>dec</th><th>hi_size</th><th>line_flux_integral</th><th>central_freq</th><th>pa</th><th>i</th><th>w20</th></tr></thead>\n",
       "<thead><tr><th>int64</th><th>float64</th><th>float64</th><th>float64</th><th>float64</th><th>float64</th><th>float64</th><th>float64</th><th>float64</th></tr></thead>\n",
       "<tr><td>701</td><td>180.26791381835938</td><td>-29.983800888061523</td><td>35.73054490935102</td><td>566.6747759983484</td><td>1108079232.0</td><td>1.2157917022705078</td><td>87.32292175292969</td><td>798.4859955973991</td></tr>\n",
       "<tr><td>226</td><td>179.79489135742188</td><td>-29.908550262451172</td><td>39.77877927006476</td><td>446.5794903512234</td><td>1122020224.0</td><td>293.52197265625</td><td>48.21644973754883</td><td>512.670926407148</td></tr>\n",
       "<tr><td>225</td><td>179.82937622070312</td><td>-30.03167724609375</td><td>29.419230985437085</td><td>265.68880769242804</td><td>1122635648.0</td><td>134.94618225097656</td><td>78.9703140258789</td><td>406.369624159578</td></tr>\n",
       "<tr><td>700</td><td>180.1607208251953</td><td>-29.92746925354004</td><td>30.94924199415425</td><td>243.96290869450243</td><td>1109079424.0</td><td>290.015380859375</td><td>62.43174362182617</td><td>376.86655070539007</td></tr>\n",
       "<tr><td>224</td><td>180.09771728515625</td><td>-29.801000595092773</td><td>25.097465890764052</td><td>188.57571097271477</td><td>1114165248.0</td><td>92.61054229736328</td><td>78.99885559082031</td><td>381.17765391146827</td></tr>\n",
       "<tr><td>699</td><td>180.03268432617188</td><td>-30.185619354248047</td><td>10.98977040153908</td><td>185.92531839452877</td><td>1100236800.0</td><td>13.265304565429688</td><td>50.77131652832031</td><td>281.8102923073377</td></tr>\n",
       "<tr><td>223</td><td>179.7897491455078</td><td>-30.131210327148438</td><td>24.361358770456423</td><td>183.80720190707663</td><td>1123033344.0</td><td>226.52513122558594</td><td>69.0820083618164</td><td>353.01745571898306</td></tr>\n",
       "<tr><td>698</td><td>180.20526123046875</td><td>-29.874109268188477</td><td>35.99467911094883</td><td>176.29466524281315</td><td>1101164928.0</td><td>74.81852722167969</td><td>71.20033264160156</td><td>748.1991118083421</td></tr>\n",
       "<tr><td>222</td><td>180.25021362304688</td><td>-29.967220306396484</td><td>24.579566316855725</td><td>174.38707742978622</td><td>1126808960.0</td><td>117.8923110961914</td><td>33.95269012451172</td><td>373.1538227821033</td></tr>\n",
       "<tr><td>219</td><td>180.03236389160156</td><td>-30.012861251831055</td><td>23.810587486998298</td><td>166.8029519653592</td><td>1145570816.0</td><td>232.67910766601562</td><td>72.13525390625</td><td>337.7799373143191</td></tr>\n",
       "<tr><td>...</td><td>...</td><td>...</td><td>...</td><td>...</td><td>...</td><td>...</td><td>...</td><td>...</td></tr>\n",
       "<tr><td>1052</td><td>179.9951171875</td><td>-29.81954574584961</td><td>7.875598303998644</td><td>10.265328530894593</td><td>1050541696.0</td><td>30.586795806884766</td><td>36.267642974853516</td><td>410.9656170508275</td></tr>\n",
       "<tr><td>493</td><td>180.24072265625</td><td>-30.19923973083496</td><td>6.038753949490372</td><td>10.244973506084827</td><td>1099681536.0</td><td>223.98959350585938</td><td>68.92445373535156</td><td>321.4742971434249</td></tr>\n",
       "<tr><td>66</td><td>179.9331512451172</td><td>-30.18413734436035</td><td>5.374015239024387</td><td>10.22560003811296</td><td>1138099072.0</td><td>38.10169982910156</td><td>44.38555908203125</td><td>152.52374832470784</td></tr>\n",
       "<tr><td>2169</td><td>179.7662811279297</td><td>-29.825109481811523</td><td>8.384672455866486</td><td>10.188199229071063</td><td>964564928.0</td><td>79.93755340576172</td><td>55.72459411621094</td><td>418.4129325499663</td></tr>\n",
       "<tr><td>1636</td><td>180.09140014648438</td><td>-29.968870162963867</td><td>6.055121552029423</td><td>10.155445490513864</td><td>1004225600.0</td><td>320.67230224609375</td><td>29.209169387817383</td><td>248.32695114086354</td></tr>\n",
       "<tr><td>489</td><td>180.04208374023438</td><td>-30.112686157226562</td><td>6.622698880081139</td><td>10.152219139835028</td><td>1102211584.0</td><td>291.21099853515625</td><td>75.05685424804688</td><td>325.4987991899769</td></tr>\n",
       "<tr><td>81</td><td>179.74551391601562</td><td>-30.015243530273438</td><td>4.418555105914556</td><td>10.084365798681986</td><td>1122367744.0</td><td>330.98828125</td><td>70.33613586425781</td><td>435.98031281937006</td></tr>\n",
       "<tr><td>2554</td><td>179.87928771972656</td><td>-29.85106086730957</td><td>5.294484690886838</td><td>10.051862904823624</td><td>960800896.0</td><td>96.63531494140625</td><td>56.3450813293457</td><td>234.28714653093482</td></tr>\n",
       "<tr><td>2137</td><td>180.22019958496094</td><td>-29.95911407470703</td><td>8.705905456542585</td><td>10.035072372595849</td><td>995665280.0</td><td>353.5257873535156</td><td>33.619049072265625</td><td>427.11699773202577</td></tr>\n",
       "<tr><td>521</td><td>179.9757843017578</td><td>-30.08232307434082</td><td>6.242332440433941</td><td>10.01118020623742</td><td>1076386176.0</td><td>58.77522277832031</td><td>71.1493148803711</td><td>341.3781541950812</td></tr>\n",
       "</table>"
      ],
      "text/plain": [
       "<Table length=849>\n",
       "  id          ra         ...         i                 w20        \n",
       "int64      float64       ...      float64            float64      \n",
       "----- ------------------ ... ------------------ ------------------\n",
       "  701 180.26791381835938 ...  87.32292175292969  798.4859955973991\n",
       "  226 179.79489135742188 ...  48.21644973754883   512.670926407148\n",
       "  225 179.82937622070312 ...   78.9703140258789   406.369624159578\n",
       "  700  180.1607208251953 ...  62.43174362182617 376.86655070539007\n",
       "  224 180.09771728515625 ...  78.99885559082031 381.17765391146827\n",
       "  699 180.03268432617188 ...  50.77131652832031  281.8102923073377\n",
       "  223  179.7897491455078 ...   69.0820083618164 353.01745571898306\n",
       "  698 180.20526123046875 ...  71.20033264160156  748.1991118083421\n",
       "  222 180.25021362304688 ...  33.95269012451172  373.1538227821033\n",
       "  219 180.03236389160156 ...     72.13525390625  337.7799373143191\n",
       "  ...                ... ...                ...                ...\n",
       " 1052     179.9951171875 ... 36.267642974853516  410.9656170508275\n",
       "  493    180.24072265625 ...  68.92445373535156  321.4742971434249\n",
       "   66  179.9331512451172 ...  44.38555908203125 152.52374832470784\n",
       " 2169  179.7662811279297 ...  55.72459411621094  418.4129325499663\n",
       " 1636 180.09140014648438 ... 29.209169387817383 248.32695114086354\n",
       "  489 180.04208374023438 ...  75.05685424804688  325.4987991899769\n",
       "   81 179.74551391601562 ...  70.33613586425781 435.98031281937006\n",
       " 2554 179.87928771972656 ...   56.3450813293457 234.28714653093482\n",
       " 2137 180.22019958496094 ... 33.619049072265625 427.11699773202577\n",
       "  521  179.9757843017578 ...   71.1493148803711  341.3781541950812"
      ]
     },
     "execution_count": 56,
     "metadata": {},
     "output_type": "execute_result"
    }
   ],
   "source": [
    "dev_cat[dev_cat[\"line_flux_integral\"] > 10]"
   ]
  },
  {
   "cell_type": "code",
   "execution_count": 182,
   "metadata": {},
   "outputs": [
    {
     "data": {
      "image/png": "[encoded data removed]",
      "text/plain": [
       "<Figure size 720x504 with 1 Axes>"
      ]
     },
     "metadata": {
      "needs_background": "light"
     },
     "output_type": "display_data"
    }
   ],
   "source": [
    "from matplotlib import pyplot as plt \n",
    "    \n",
    "fig, ax = plt.subplots(figsize =(10, 7))\n",
    "ax.hist(dev_cat['hi_size'], bins=pow(10, np.array(range(0, 21))/10)) \n",
    "ax.semilogx()\n",
    "\n",
    "plt.show()"
   ]
  },
  {
   "cell_type": "code",
   "execution_count": 34,
   "metadata": {
    "scrolled": true
   },
   "outputs": [
    {
     "name": "stderr",
     "output_type": "stream",
     "text": [
      "WARNING: VerifyWarning: Invalid 'BLANK' keyword in header.  The 'BLANK' keyword is only applicable to integer data, and will be ignored in this HDU. [astropy.io.fits.hdu.image]\n"
     ]
    }
   ],
   "source": [
    "cube = SpectralCube.read('SDC2_Data/dev_s/sky_dev.fits')"
   ]
  },
  {
   "cell_type": "code",
   "execution_count": 35,
   "metadata": {},
   "outputs": [
    {
     "data": {
      "text/plain": [
       "SpectralCube with shape=(6668, 643, 643) and unit=Jy / beam:\n",
       " n_x:    643  type_x: RA---SIN  unit_x: deg    range:   179.710980 deg:  180.289020 deg\n",
       " n_y:    643  type_y: DEC--SIN  unit_y: deg    range:   -30.249353 deg:  -29.750019 deg\n",
       " n_s:   6668  type_s: FREQ      unit_s: Hz     range: 950000000.000 Hz:1150010000.000 Hz"
      ]
     },
     "execution_count": 35,
     "metadata": {},
     "output_type": "execute_result"
    }
   ],
   "source": [
    "cube"
   ]
  },
  {
   "cell_type": "code",
   "execution_count": 38,
   "metadata": {},
   "outputs": [],
   "source": [
    "s = cube.subcube(xlo=179.79*u.deg, xhi=179.8*u.deg,\n",
    "                 ylo=-29.915*u.deg, yhi=-29.9*u.deg,\n",
    "                 zlo=1121*u.MHz, zhi=1123*u.MHz)"
   ]
  },
  {
   "cell_type": "code",
   "execution_count": 39,
   "metadata": {},
   "outputs": [
    {
     "data": {
      "image/png": "[encoded data removed]",
      "text/plain": [
       "<Figure size 432x288 with 1 Axes>"
      ]
     },
     "metadata": {
      "needs_background": "light"
     },
     "output_type": "display_data"
    }
   ],
   "source": [
    "s.moment(order=0).quicklook()"
   ]
  },
  {
   "cell_type": "code",
   "execution_count": 58,
   "metadata": {},
   "outputs": [
    {
     "data": {
      "text/plain": [
       "179.79489135742188"
      ]
     },
     "execution_count": 58,
     "metadata": {},
     "output_type": "execute_result"
    }
   ],
   "source": [
    "dev_cat['ra'][0]"
   ]
  },
  {
   "cell_type": "code",
   "execution_count": 113,
   "metadata": {},
   "outputs": [
    {
     "data": {
      "text/latex": [
       "$18.571429 \\; \\mathrm{pix}$"
      ],
      "text/plain": [
       "<Quantity 18.57142857 pix>"
      ]
     },
     "execution_count": 113,
     "metadata": {},
     "output_type": "execute_result"
    }
   ],
   "source": [
    "(52*u.arcsec).to(u.pixel, u.pixel_scale(2.8*u.arcsec/u.pixel))"
   ]
  },
  {
   "cell_type": "code",
   "execution_count": 81,
   "metadata": {},
   "outputs": [],
   "source": [
    "def subcube_around(cube, dev_cat, index, e, es):\n",
    "    from astropy import units as u\n",
    "\n",
    "    x_c = dev_cat[index]['ra'] * u.deg\n",
    "    y_c = dev_cat[index]['dec'] * u.deg\n",
    "    z_c = dev_cat[index]['central_freq'] * u.Hz\n",
    "\n",
    "    return cube.subcube(xlo = x_c - e, xhi = x_c + e,\n",
    "                      ylo = y_c - e, yhi = y_c + e,\n",
    "                      zlo = z_c - es, zhi = z_c + es)"
   ]
  },
  {
   "cell_type": "code",
   "execution_count": 187,
   "metadata": {},
   "outputs": [
    {
     "data": {
      "image/png": "[encoded data removed]",
      "text/plain": [
       "<Figure size 432x288 with 1 Axes>"
      ]
     },
     "metadata": {
      "needs_background": "light"
     },
     "output_type": "display_data"
    }
   ],
   "source": [
    "s2 = subcube_around(cube, dev_cat, index = 0, e = 0.008 * u.deg, es = 1 * u.MHz)\n",
    "s2.moment(order=0).quicklook()"
   ]
  },
  {
   "cell_type": "code",
   "execution_count": 152,
   "metadata": {},
   "outputs": [],
   "source": [
    "def sources_around(dev_cat, index, e, es):\n",
    "    from astropy import units as u\n",
    "\n",
    "    x_c = dev_cat[index]['ra'] * u.deg\n",
    "    y_c = dev_cat[index]['dec'] * u.deg\n",
    "    z_c = dev_cat[index]['central_freq'] * u.Hz\n",
    "\n",
    "    return dev_cat[(dev_cat['ra'] * u.deg > x_c - e) *\n",
    "                   (dev_cat['ra'] * u.deg < x_c + e) *\n",
    "                   (dev_cat['dec'] * u.deg > y_c - e) *\n",
    "                   (dev_cat['dec'] * u.deg < y_c + e) *\n",
    "                   (dev_cat['central_freq'] * u.Hz > z_c - es) *\n",
    "                   (dev_cat['central_freq'] * u.Hz < z_c + es)]"
   ]
  },
  {
   "cell_type": "code",
   "execution_count": 157,
   "metadata": {},
   "outputs": [
    {
     "name": "stderr",
     "output_type": "stream",
     "text": [
      "WARNING: The limit xhi is out of bounds.  Using min/max instead. [spectral_cube.spectral_cube]\n",
      "WARNING: The limit zhi is out of bounds.  Using min/max instead. [spectral_cube.spectral_cube]\n",
      "WARNING: VerifyWarning: Invalid 'BLANK' keyword in header.  The 'BLANK' keyword is only applicable to integer data, and will be ignored in this HDU. [astropy.io.fits.hdu.image]\n"
     ]
    }
   ],
   "source": [
    "sub = subcube_around(cube, dev_cat, index = 0, e = 0.05 * u.deg, es = 50 * u.MHz)\n",
    "\n",
    "sub.write('test.fits')"
   ]
  },
  {
   "cell_type": "code",
   "execution_count": 175,
   "metadata": {},
   "outputs": [
    {
     "name": "stdout",
     "output_type": "stream",
     "text": [
      "\u001b[36m____________________________________________________________________________\u001b[0;1m\n",
      "\n",
      " Pipeline started\n",
      "\u001b[0;36m____________________________________________________________________________\u001b[0m\n",
      "\n",
      "  Using:    Source Finding Application (SoFiA)\n",
      "  Version:  2.2.1 (18-Nov-2020)\n",
      "  CPU:      12 cores available\n",
      "  Time:     Thu Jan 21 05:05:21 2021\n",
      "\n",
      "\u001b[36m____________________________________________________________________________\u001b[0;1m\n",
      "\n",
      " Loading parameter settings\n",
      "\u001b[0;36m____________________________________________________________________________\u001b[0m\n",
      "\n",
      "  Activating SoFiA default parameter settings.\n",
      "  Loading user parameter file: 't.par'.\n",
      "\n",
      "  Using all 12 available CPU cores.\n",
      "\n",
      "\u001b[36m____________________________________________________________________________\u001b[0;1m\n",
      "\n",
      " Loading data cube\n",
      "\u001b[0;36m____________________________________________________________________________\u001b[0m\n",
      "\n",
      "  Opening FITS file 'test.fits'.\n",
      "  Reading FITS data with the following specifications:\n",
      "    Data type:    -32\n",
      "    No. of axes:  3\n",
      "    Axis sizes:   80, 130, 3065\n",
      "    Region:       0-79, 0-129, 0-3064\n",
      "    Memory used:  121.6 MB\n",
      "  Searching for values of infinity.\n",
      "    No infinite pixel values found.\n",
      "\n",
      "\u001b[36m  Elapsed time: 00:00:00 h\n",
      "  CPU time:     00:00:00 h\u001b[0m\n",
      "\n",
      "\u001b[36m____________________________________________________________________________\u001b[0;1m\n",
      "\n",
      " Measuring global noise level\n",
      "\u001b[0;36m____________________________________________________________________________\u001b[0m\n",
      "\n",
      "  Global RMS:  2.955e-05  (using stride of 31)\n",
      "\n",
      "\u001b[36m  Elapsed time: 00:00:00 h\n",
      "  CPU time:     00:00:00 h\u001b[0m\n",
      "\n",
      "\u001b[36m____________________________________________________________________________\u001b[0;1m\n",
      "\n",
      " Running S+C finder\n",
      "\u001b[0;36m____________________________________________________________________________\u001b[0m\n",
      "\n",
      "  Using the following parameters:\n",
      "  - Kernels\n",
      "    - spatial:        0, 5, 10\n",
      "    - spectral:       0, 3, 7, 15\n",
      "  - Flux threshold:   3.5 * rms\n",
      "  - Noise statistic:  median absolute deviation\n",
      "  - Flux range:       negative\n",
      "\n",
      "  Using a stride of 31 in noise measurement.\n",
      "\n",
      "  Smoothing kernel:  [0.0] x [0]\n",
      "  Noise level:       2.955e-05\n",
      "\n",
      "\u001b[36m  Elapsed time: 00:00:00 h\n",
      "  CPU time:     00:00:00 h\u001b[0m\n",
      "\n",
      "  Smoothing kernel:  [0.0] x [3]\n",
      "  Noise level:       1.704e-05\n",
      "\n",
      "\u001b[36m  Elapsed time: 00:00:01 h\n",
      "  CPU time:     00:00:01 h\u001b[0m\n",
      "\n",
      "  Smoothing kernel:  [0.0] x [7]\n",
      "  Noise level:       1.113e-05\n",
      "\n",
      "\u001b[36m  Elapsed time: 00:00:01 h\n",
      "  CPU time:     00:00:02 h\u001b[0m\n",
      "\n",
      "  Smoothing kernel:  [0.0] x [15]\n",
      "  Noise level:       7.579e-06\n",
      "\n",
      "\u001b[36m  Elapsed time: 00:00:01 h\n",
      "  CPU time:     00:00:03 h\u001b[0m\n",
      "\n",
      "  Smoothing kernel:  [5.0] x [0]\n",
      "  Noise level:       5.646e-06\n",
      "\n",
      "\u001b[36m  Elapsed time: 00:00:01 h\n",
      "  CPU time:     00:00:05 h\u001b[0m\n",
      "\n",
      "  Smoothing kernel:  [5.0] x [3]\n",
      "  Noise level:       3.268e-06\n",
      "\n",
      "\u001b[36m  Elapsed time: 00:00:01 h\n",
      "  CPU time:     00:00:06 h\u001b[0m\n",
      "\n",
      "  Smoothing kernel:  [5.0] x [7]\n",
      "  Noise level:       2.148e-06\n",
      "\n",
      "\u001b[36m  Elapsed time: 00:00:01 h\n",
      "  CPU time:     00:00:08 h\u001b[0m\n",
      "\n",
      "  Smoothing kernel:  [5.0] x [15]\n",
      "  Noise level:       1.474e-06\n",
      "\n",
      "\u001b[36m  Elapsed time: 00:00:02 h\n",
      "  CPU time:     00:00:10 h\u001b[0m\n",
      "\n",
      "  Smoothing kernel:  [10.0] x [0]\n",
      "  Noise level:       1.276e-06\n",
      "\n",
      "\u001b[36m  Elapsed time: 00:00:02 h\n",
      "  CPU time:     00:00:11 h\u001b[0m\n",
      "\n",
      "  Smoothing kernel:  [10.0] x [3]\n",
      "  Noise level:       7.439e-07\n",
      "\n",
      "\u001b[36m  Elapsed time: 00:00:02 h\n",
      "  CPU time:     00:00:13 h\u001b[0m\n",
      "\n",
      "  Smoothing kernel:  [10.0] x [7]\n",
      "  Noise level:       4.943e-07\n",
      "\n",
      "\u001b[36m  Elapsed time: 00:00:02 h\n",
      "  CPU time:     00:00:15 h\u001b[0m\n",
      "\n",
      "  Smoothing kernel:  [10.0] x [15]\n",
      "  Noise level:       3.453e-07\n",
      "\n",
      "\u001b[36m  Elapsed time: 00:00:02 h\n",
      "  CPU time:     00:00:17 h\u001b[0m\n",
      "\n",
      "  564354 pixels detected (1.770%).\n",
      "\n",
      "\u001b[36m____________________________________________________________________________\u001b[0;1m\n",
      "\n",
      " Running Linker\n",
      "\u001b[0;36m____________________________________________________________________________\u001b[0m\n",
      "\n",
      "  Linker settings:\n",
      "   - Merging radii:  1, 1, 1\n",
      "   - Minimum size:   5 x 5 x 5\n",
      "   - Keep negative:  yes\n",
      "\n",
      "  Progress:  |\u001b[33m                                                  \u001b[0m| 0%\r",
      "  Progress:  |\u001b[33m                                                  \u001b[0m| 1%\r",
      "  Progress:  |\u001b[33m=                                                 \u001b[0m| 2%\r",
      "  Progress:  |\u001b[33m=                                                 \u001b[0m| 3%\r",
      "  Progress:  |\u001b[33m==                                                \u001b[0m| 4%\r",
      "  Progress:  |\u001b[33m==                                                \u001b[0m| 5%\r",
      "  Progress:  |\u001b[33m===                                               \u001b[0m| 6%\r",
      "  Progress:  |\u001b[33m===                                               \u001b[0m| 7%\r",
      "  Progress:  |\u001b[33m===                                               \u001b[0m| 7%\r",
      "  Progress:  |\u001b[33m====                                              \u001b[0m| 8%\r",
      "  Progress:  |\u001b[33m====                                              \u001b[0m| 9%\r",
      "  Progress:  |\u001b[33m=====                                             \u001b[0m| 10%\r",
      "  Progress:  |\u001b[33m=====                                             \u001b[0m| 11%\r",
      "  Progress:  |\u001b[33m======                                            \u001b[0m| 12%\r",
      "  Progress:  |\u001b[33m======                                            \u001b[0m| 13%\r",
      "  Progress:  |\u001b[33m=======                                           \u001b[0m| 14%\r",
      "  Progress:  |\u001b[33m=======                                           \u001b[0m| 15%\r",
      "  Progress:  |\u001b[33m========                                          \u001b[0m| 16%\r",
      "  Progress:  |\u001b[33m========                                          \u001b[0m| 17%\r",
      "  Progress:  |\u001b[33m=========                                         \u001b[0m| 18%\r",
      "  Progress:  |\u001b[33m=========                                         \u001b[0m| 19%\r",
      "  Progress:  |\u001b[33m==========                                        \u001b[0m| 20%\r",
      "  Progress:  |\u001b[33m==========                                        \u001b[0m| 21%\r",
      "  Progress:  |\u001b[33m===========                                       \u001b[0m| 22%\r",
      "  Progress:  |\u001b[33m===========                                       \u001b[0m| 23%\r",
      "  Progress:  |\u001b[33m============                                      \u001b[0m| 24%\r",
      "  Progress:  |\u001b[33m============                                      \u001b[0m| 25%\r",
      "  Progress:  |\u001b[33m=============                                     \u001b[0m| 26%\r",
      "  Progress:  |\u001b[33m=============                                     \u001b[0m| 27%\r",
      "  Progress:  |\u001b[33m==============                                    \u001b[0m| 28%\r",
      "  Progress:  |\u001b[33m==============                                    \u001b[0m| 29%\r",
      "  Progress:  |\u001b[33m===============                                   \u001b[0m| 30%\r",
      "  Progress:  |\u001b[33m===============                                   \u001b[0m| 31%\r",
      "  Progress:  |\u001b[33m================                                  \u001b[0m| 32%\r",
      "  Progress:  |\u001b[33m================                                  \u001b[0m| 33%\r",
      "  Progress:  |\u001b[33m=================                                 \u001b[0m| 34%\r",
      "  Progress:  |\u001b[33m=================                                 \u001b[0m| 35%\r",
      "  Progress:  |\u001b[33m==================                                \u001b[0m| 36%\r",
      "  Progress:  |\u001b[33m==================                                \u001b[0m| 37%\r",
      "  Progress:  |\u001b[33m===================                               \u001b[0m| 38%\r",
      "  Progress:  |\u001b[33m===================                               \u001b[0m| 39%\r",
      "  Progress:  |\u001b[33m====================                              \u001b[0m| 40%\r",
      "  Progress:  |\u001b[33m====================                              \u001b[0m| 41%\r",
      "  Progress:  |\u001b[33m=====================                             \u001b[0m| 42%\r",
      "  Progress:  |\u001b[33m=====================                             \u001b[0m| 43%\r",
      "  Progress:  |\u001b[33m======================                            \u001b[0m| 44%\r",
      "  Progress:  |\u001b[33m======================                            \u001b[0m| 45%\r",
      "  Progress:  |\u001b[33m=======================                           \u001b[0m| 46%\r",
      "  Progress:  |\u001b[33m=======================                           \u001b[0m| 47%\r",
      "  Progress:  |\u001b[33m========================                          \u001b[0m| 48%\r",
      "  Progress:  |\u001b[33m========================                          \u001b[0m| 49%\r",
      "  Progress:  |\u001b[33m=========================                         \u001b[0m| 50%\r",
      "  Progress:  |\u001b[33m=========================                         \u001b[0m| 51%\r",
      "  Progress:  |\u001b[33m==========================                        \u001b[0m| 52%\r",
      "  Progress:  |\u001b[33m==========================                        \u001b[0m| 53%\r",
      "  Progress:  |\u001b[33m==========================                        \u001b[0m| 53%\r",
      "  Progress:  |\u001b[33m===========================                       \u001b[0m| 54%\r",
      "  Progress:  |\u001b[33m===========================                       \u001b[0m| 55%\r",
      "  Progress:  |\u001b[33m============================                      \u001b[0m| 56%\r",
      "  Progress:  |\u001b[33m============================                      \u001b[0m| 57%\r",
      "  Progress:  |\u001b[33m=============================                     \u001b[0m| 58%\r",
      "  Progress:  |\u001b[33m=============================                     \u001b[0m| 59%\r",
      "  Progress:  |\u001b[33m==============================                    \u001b[0m| 60%\r",
      "  Progress:  |\u001b[33m==============================                    \u001b[0m| 61%\r",
      "  Progress:  |\u001b[33m===============================                   \u001b[0m| 62%\r",
      "  Progress:  |\u001b[33m===============================                   \u001b[0m| 63%\r",
      "  Progress:  |\u001b[33m================================                  \u001b[0m| 64%\r",
      "  Progress:  |\u001b[33m================================                  \u001b[0m| 65%\r",
      "  Progress:  |\u001b[33m=================================                 \u001b[0m| 66%\r",
      "  Progress:  |\u001b[33m=================================                 \u001b[0m| 67%\r",
      "  Progress:  |\u001b[33m==================================                \u001b[0m| 68%\r",
      "  Progress:  |\u001b[33m==================================                \u001b[0m| 69%\r",
      "  Progress:  |\u001b[33m===================================               \u001b[0m| 70%\r",
      "  Progress:  |\u001b[33m===================================               \u001b[0m| 71%\r",
      "  Progress:  |\u001b[33m====================================              \u001b[0m| 72%\r",
      "  Progress:  |\u001b[33m====================================              \u001b[0m| 73%\r",
      "  Progress:  |\u001b[33m=====================================             \u001b[0m| 74%\r",
      "  Progress:  |\u001b[33m=====================================             \u001b[0m| 75%\r",
      "  Progress:  |\u001b[33m======================================            \u001b[0m| 76%\r",
      "  Progress:  |\u001b[33m======================================            \u001b[0m| 77%\r",
      "  Progress:  |\u001b[33m=======================================           \u001b[0m| 78%\r",
      "  Progress:  |\u001b[33m=======================================           \u001b[0m| 79%\r",
      "  Progress:  |\u001b[33m========================================          \u001b[0m| 80%\r",
      "  Progress:  |\u001b[33m========================================          \u001b[0m| 81%\r",
      "  Progress:  |\u001b[33m=========================================         \u001b[0m| 82%\r",
      "  Progress:  |\u001b[33m=========================================         \u001b[0m| 83%\r",
      "  Progress:  |\u001b[33m==========================================        \u001b[0m| 84%\r",
      "  Progress:  |\u001b[33m==========================================        \u001b[0m| 85%\r",
      "  Progress:  |\u001b[33m===========================================       \u001b[0m| 86%\r",
      "  Progress:  |\u001b[33m===========================================       \u001b[0m| 87%\r",
      "  Progress:  |\u001b[33m============================================      \u001b[0m| 88%\r",
      "  Progress:  |\u001b[33m============================================      \u001b[0m| 89%\r",
      "  Progress:  |\u001b[33m=============================================     \u001b[0m| 90%\r",
      "  Progress:  |\u001b[33m=============================================     \u001b[0m| 91%\r",
      "  Progress:  |\u001b[33m==============================================    \u001b[0m| 92%\r",
      "  Progress:  |\u001b[33m==============================================    \u001b[0m| 93%\r",
      "  Progress:  |\u001b[33m===============================================   \u001b[0m| 94%\r",
      "  Progress:  |\u001b[33m===============================================   \u001b[0m| 95%\r",
      "  Progress:  |\u001b[33m================================================  \u001b[0m| 96%\r",
      "  Progress:  |\u001b[33m================================================  \u001b[0m| 97%\r",
      "  Progress:  |\u001b[33m================================================= \u001b[0m| 98%\r",
      "  Progress:  |\u001b[33m================================================= \u001b[0m| 99%\r",
      "  Progress:  |\u001b[32m==================================================\u001b[0m| 100%\r\n",
      "\n",
      "  Linker status:\n",
      "   - No. of objects:  931\n",
      "   - Memory usage:    88.19 kB\n",
      "\n",
      "\n",
      "\u001b[36m  Elapsed time: 00:00:03 h\n",
      "  CPU time:     00:00:17 h\u001b[0m\n",
      "\n",
      "\u001b[36m____________________________________________________________________________\u001b[0;1m\n",
      "\n",
      " Measuring reliability\n",
      "\u001b[0;36m____________________________________________________________________________\u001b[0m\n",
      "\n",
      "  Found 455 positive and 476 negative sources.\n",
      "  Retaining all negative detections.\n",
      "  \n",
      "  Progress:  |\u001b[33m                                                  \u001b[0m| 0%\r",
      "  Progress:  |\u001b[33m                                                  \u001b[0m| 1%\r",
      "  Progress:  |\u001b[33m=                                                 \u001b[0m| 2%\r",
      "  Progress:  |\u001b[33m=                                                 \u001b[0m| 3%\r",
      "  Progress:  |\u001b[33m==                                                \u001b[0m| 4%\r",
      "  Progress:  |\u001b[33m==                                                \u001b[0m| 5%\r",
      "  Progress:  |\u001b[33m===                                               \u001b[0m| 6%\r",
      "  Progress:  |\u001b[33m===                                               \u001b[0m| 7%\r",
      "  Progress:  |\u001b[33m===                                               \u001b[0m| 7%\r",
      "  Progress:  |\u001b[33m====                                              \u001b[0m| 8%\r",
      "  Progress:  |\u001b[33m====                                              \u001b[0m| 9%\r",
      "  Progress:  |\u001b[33m=====                                             \u001b[0m| 10%\r",
      "  Progress:  |\u001b[33m=====                                             \u001b[0m| 11%\r",
      "  Progress:  |\u001b[33m======                                            \u001b[0m| 12%\r",
      "  Progress:  |\u001b[33m======                                            \u001b[0m| 13%\r",
      "  Progress:  |\u001b[33m=======                                           \u001b[0m| 14%\r",
      "  Progress:  |\u001b[33m=======                                           \u001b[0m| 14%\r",
      "  Progress:  |\u001b[33m=======                                           \u001b[0m| 15%\r",
      "  Progress:  |\u001b[33m========                                          \u001b[0m| 16%\r",
      "  Progress:  |\u001b[33m========                                          \u001b[0m| 17%\r",
      "  Progress:  |\u001b[33m=========                                         \u001b[0m| 18%\r",
      "  Progress:  |\u001b[33m=========                                         \u001b[0m| 19%\r",
      "  Progress:  |\u001b[33m==========                                        \u001b[0m| 20%\r",
      "  Progress:  |\u001b[33m==========                                        \u001b[0m| 21%\r",
      "  Progress:  |\u001b[33m==========                                        \u001b[0m| 21%\r",
      "  Progress:  |\u001b[33m===========                                       \u001b[0m| 22%\r",
      "  Progress:  |\u001b[33m===========                                       \u001b[0m| 23%\r",
      "  Progress:  |\u001b[33m============                                      \u001b[0m| 24%\r",
      "  Progress:  |\u001b[33m============                                      \u001b[0m| 25%\r",
      "  Progress:  |\u001b[33m=============                                     \u001b[0m| 26%\r",
      "  Progress:  |\u001b[33m=============                                     \u001b[0m| 27%\r",
      "  Progress:  |\u001b[33m==============                                    \u001b[0m| 28%\r",
      "  Progress:  |\u001b[33m==============                                    \u001b[0m| 29%\r",
      "  Progress:  |\u001b[33m==============                                    \u001b[0m| 29%\r",
      "  Progress:  |\u001b[33m===============                                   \u001b[0m| 30%\r",
      "  Progress:  |\u001b[33m===============                                   \u001b[0m| 31%\r",
      "  Progress:  |\u001b[33m================                                  \u001b[0m| 32%\r",
      "  Progress:  |\u001b[33m================                                  \u001b[0m| 33%\r",
      "  Progress:  |\u001b[33m=================                                 \u001b[0m| 34%\r",
      "  Progress:  |\u001b[33m=================                                 \u001b[0m| 35%\r",
      "  Progress:  |\u001b[33m==================                                \u001b[0m| 36%\r",
      "  Progress:  |\u001b[33m==================                                \u001b[0m| 36%\r",
      "  Progress:  |\u001b[33m==================                                \u001b[0m| 37%\r",
      "  Progress:  |\u001b[33m===================                               \u001b[0m| 38%\r",
      "  Progress:  |\u001b[33m===================                               \u001b[0m| 39%\r",
      "  Progress:  |\u001b[33m====================                              \u001b[0m| 40%\r",
      "  Progress:  |\u001b[33m====================                              \u001b[0m| 41%\r",
      "  Progress:  |\u001b[33m=====================                             \u001b[0m| 42%\r",
      "  Progress:  |\u001b[33m=====================                             \u001b[0m| 43%\r",
      "  Progress:  |\u001b[33m=====================                             \u001b[0m| 43%\r",
      "  Progress:  |\u001b[33m======================                            \u001b[0m| 44%\r",
      "  Progress:  |\u001b[33m======================                            \u001b[0m| 45%\r",
      "  Progress:  |\u001b[33m=======================                           \u001b[0m| 46%\r",
      "  Progress:  |\u001b[33m=======================                           \u001b[0m| 47%\r",
      "  Progress:  |\u001b[33m========================                          \u001b[0m| 48%\r",
      "  Progress:  |\u001b[33m========================                          \u001b[0m| 49%\r",
      "  Progress:  |\u001b[33m=========================                         \u001b[0m| 50%\r",
      "  Progress:  |\u001b[33m=========================                         \u001b[0m| 50%\r",
      "  Progress:  |\u001b[33m=========================                         \u001b[0m| 51%\r",
      "  Progress:  |\u001b[33m==========================                        \u001b[0m| 52%\r",
      "  Progress:  |\u001b[33m==========================                        \u001b[0m| 53%\r",
      "  Progress:  |\u001b[33m===========================                       \u001b[0m| 54%\r",
      "  Progress:  |\u001b[33m===========================                       \u001b[0m| 55%\r",
      "  Progress:  |\u001b[33m============================                      \u001b[0m| 56%\r",
      "  Progress:  |\u001b[33m============================                      \u001b[0m| 57%\r",
      "  Progress:  |\u001b[33m=============================                     \u001b[0m| 58%\r",
      "  Progress:  |\u001b[33m=============================                     \u001b[0m| 58%\r",
      "  Progress:  |\u001b[33m=============================                     \u001b[0m| 59%\r",
      "  Progress:  |\u001b[33m==============================                    \u001b[0m| 60%\r",
      "  Progress:  |\u001b[33m==============================                    \u001b[0m| 61%\r",
      "  Progress:  |\u001b[33m===============================                   \u001b[0m| 62%\r",
      "  Progress:  |\u001b[33m===============================                   \u001b[0m| 63%\r",
      "  Progress:  |\u001b[33m================================                  \u001b[0m| 64%\r",
      "  Progress:  |\u001b[33m================================                  \u001b[0m| 65%\r",
      "  Progress:  |\u001b[33m================================                  \u001b[0m| 65%\r",
      "  Progress:  |\u001b[33m=================================                 \u001b[0m| 66%\r",
      "  Progress:  |\u001b[33m=================================                 \u001b[0m| 67%\r",
      "  Progress:  |\u001b[33m==================================                \u001b[0m| 68%\r",
      "  Progress:  |\u001b[33m==================================                \u001b[0m| 69%\r",
      "  Progress:  |\u001b[33m===================================               \u001b[0m| 70%\r",
      "  Progress:  |\u001b[33m===================================               \u001b[0m| 71%\r",
      "  Progress:  |\u001b[33m====================================              \u001b[0m| 72%\r",
      "  Progress:  |\u001b[33m====================================              \u001b[0m| 72%\r",
      "  Progress:  |\u001b[33m====================================              \u001b[0m| 73%\r",
      "  Progress:  |\u001b[33m=====================================             \u001b[0m| 74%\r",
      "  Progress:  |\u001b[33m=====================================             \u001b[0m| 75%\r",
      "  Progress:  |\u001b[33m======================================            \u001b[0m| 76%\r",
      "  Progress:  |\u001b[33m======================================            \u001b[0m| 77%\r",
      "  Progress:  |\u001b[33m=======================================           \u001b[0m| 78%\r",
      "  Progress:  |\u001b[33m=======================================           \u001b[0m| 79%\r",
      "  Progress:  |\u001b[33m========================================          \u001b[0m| 80%\r",
      "  Progress:  |\u001b[33m========================================          \u001b[0m| 80%\r",
      "  Progress:  |\u001b[33m========================================          \u001b[0m| 81%\r",
      "  Progress:  |\u001b[33m=========================================         \u001b[0m| 82%\r",
      "  Progress:  |\u001b[33m=========================================         \u001b[0m| 83%\r",
      "  Progress:  |\u001b[33m==========================================        \u001b[0m| 84%\r",
      "  Progress:  |\u001b[33m==========================================        \u001b[0m| 85%\r",
      "  Progress:  |\u001b[33m===========================================       \u001b[0m| 86%\r",
      "  Progress:  |\u001b[33m===========================================       \u001b[0m| 87%\r",
      "  Progress:  |\u001b[33m===========================================       \u001b[0m| 87%\r",
      "  Progress:  |\u001b[33m============================================      \u001b[0m| 88%\r",
      "  Progress:  |\u001b[33m============================================      \u001b[0m| 89%\r",
      "  Progress:  |\u001b[33m=============================================     \u001b[0m| 90%\r",
      "  Progress:  |\u001b[33m=============================================     \u001b[0m| 91%\r",
      "  Progress:  |\u001b[33m==============================================    \u001b[0m| 92%\r",
      "  Progress:  |\u001b[33m==============================================    \u001b[0m| 93%\r",
      "  Progress:  |\u001b[33m===============================================   \u001b[0m| 94%\r",
      "  Progress:  |\u001b[33m===============================================   \u001b[0m| 94%\r",
      "  Progress:  |\u001b[33m===============================================   \u001b[0m| 95%\r",
      "  Progress:  |\u001b[33m================================================  \u001b[0m| 96%\r",
      "  Progress:  |\u001b[33m================================================  \u001b[0m| 97%\r",
      "  Progress:  |\u001b[33m================================================= \u001b[0m| 98%\r",
      "  Progress:  |\u001b[33m================================================= \u001b[0m| 99%\r",
      "  Progress:  |\u001b[32m==================================================\u001b[0m| 100%\r\n",
      "\n",
      "  Creating postscript file: sofia_test_output_rel.eps\n",
      "  6 reliable sources found.\n",
      "\n",
      "\u001b[36m  Elapsed time: 00:00:03 h\n",
      "  CPU time:     00:00:17 h\u001b[0m\n",
      "\n",
      "\u001b[36m____________________________________________________________________________\u001b[0;1m\n",
      "\n",
      " Measuring source parameters\n",
      "\u001b[0;36m____________________________________________________________________________\u001b[0m\n",
      "\n",
      "  Found 6 sources in need of parameterisation.\n",
      "  Assuming beam size of 2.5 x 2.5 pixels.\n",
      "\n",
      "  WCS setup successful.\n",
      "\n",
      "  Progress:  |\u001b[33m========                                          \u001b[0m| 16%\r",
      "  Progress:  |\u001b[33m================                                  \u001b[0m| 33%\r",
      "  Progress:  |\u001b[33m=========================                         \u001b[0m| 50%\r",
      "  Progress:  |\u001b[33m=================================                 \u001b[0m| 66%\r",
      "  Progress:  |\u001b[33m=========================================         \u001b[0m| 83%\r",
      "  Progress:  |\u001b[32m==================================================\u001b[0m| 100%\r\n",
      "\n",
      "\n",
      "\u001b[36m  Elapsed time: 00:00:03 h\n",
      "  CPU time:     00:00:18 h\u001b[0m\n",
      "\n",
      "\u001b[36m____________________________________________________________________________\u001b[0;1m\n",
      "\n",
      " Writing source catalogue\n",
      "\u001b[0;36m____________________________________________________________________________\u001b[0m\n",
      "\n",
      "  Writing ASCII file:   sofia_test_output_cat.txt\n",
      "  Writing VOTable file: sofia_test_output_cat.xml\n",
      "\n",
      "\u001b[36m  Elapsed time: 00:00:03 h\n",
      "  CPU time:     00:00:18 h\u001b[0m\n",
      "\n",
      "\u001b[36m____________________________________________________________________________\u001b[0;1m\n",
      "\n",
      " Pipeline finished.\n",
      "\u001b[0;36m____________________________________________________________________________\u001b[0m\n",
      "\n",
      "\n"
     ]
    }
   ],
   "source": [
    "pars = {\n",
    "        'input.data'                 :  'test.fits',\n",
    "        'scaleNoise.mode'            :  'local',\n",
    "        'scaleNoise.windowXY'        :  31,\n",
    "        'scaleNoise.windowZ'         :  31,\n",
    "        'scfind.kernelsXY'           :  '0, 5, 10',\n",
    "        'scfind.threshold'           :  3.5,\n",
    "        'reliability.enable'         :  'true',\n",
    "        'reliability.fmin'           :  2.0,\n",
    "        'output.directory'           :  'sofia_test',\n",
    "        'output.filename'            :  'sofia_test_output',\n",
    "        'output.overwrite'           :  'true'\n",
    "    }\n",
    "\n",
    "o, e = run_sofia(pars, \"t.par\")\n",
    "print(o)"
   ]
  },
  {
   "cell_type": "code",
   "execution_count": 156,
   "metadata": {},
   "outputs": [],
   "source": [
    "sources_around(dev_cat, index = 0, e = 0.05 * u.deg, es = 50 * u.MHz).show_in_browser(jsviewer = True)"
   ]
  },
  {
   "cell_type": "code",
   "execution_count": 181,
   "metadata": {
    "scrolled": true
   },
   "outputs": [],
   "source": [
    "t = read_sofia_cat('sofia_test/sofia_test_output_cat.txt')\n",
    "t['id', 'ra', 'dec', 'ell_maj', 'f_sum', 'freq', 'ell_pa', 'kin_pa', 'w20'].show_in_browser(jsviewer = True)"
   ]
  },
  {
   "cell_type": "code",
   "execution_count": null,
   "metadata": {},
   "outputs": [],
   "source": []
  }
 ],
 "metadata": {
  "kernelspec": {
   "display_name": "Python 3",
   "language": "python",
   "name": "python3"
  },
  "language_info": {
   "codemirror_mode": {
    "name": "ipython",
    "version": 3
   },
   "file_extension": ".py",
   "mimetype": "text/x-python",
   "name": "python",
   "nbconvert_exporter": "python",
   "pygments_lexer": "ipython3",
   "version": "3.8.5"
  }
 },
 "nbformat": 4,
 "nbformat_minor": 4
}
